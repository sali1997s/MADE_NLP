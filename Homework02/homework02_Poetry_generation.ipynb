{
 "cells": [
  {
   "cell_type": "markdown",
   "metadata": {},
   "source": [
    "## Homework №2"
   ]
  },
  {
   "cell_type": "markdown",
   "metadata": {},
   "source": [
    "### Almost Shakespeare\n",
    "\n",
    "Let's try to generate some Shakespeare poetry using RNNs. The sonnets file is available in the notebook directory.\n",
    "\n",
    "Text generation can be designed in several steps:\n",
    "    \n",
    "1. Data loading.\n",
    "2. Dictionary generation.\n",
    "3. Data preprocessing.\n",
    "4. Model (neural network) training.\n",
    "5. Text generation (model evaluation).\n"
   ]
  },
  {
   "cell_type": "markdown",
   "metadata": {},
   "source": [
    "### Data loading"
   ]
  },
  {
   "cell_type": "markdown",
   "metadata": {},
   "source": [
    "Shakespeare sonnets are awailable at this [link](http://www.gutenberg.org/ebooks/1041?msg=welcome_stranger). In addition, they are stored in the same directory as this notebook (`sonnetes.txt`).\n",
    "\n",
    "Simple preprocessing is already done for you in the next cell: all technical info is dropped."
   ]
  },
  {
   "cell_type": "code",
   "execution_count": 1,
   "metadata": {},
   "outputs": [],
   "source": [
    "import string\n",
    "import matplotlib.pyplot as plt\n",
    "import torch, torch.nn as nn\n",
    "import torch.nn.functional as F\n",
    "import numpy as np\n",
    "import pandas as pd\n",
    "import random\n",
    "\n",
    "%matplotlib inline\n",
    "from IPython.display import clear_output\n",
    "import os\n",
    "import sys\n",
    "from tqdm.notebook import tqdm_notebook as tqdm"
   ]
  },
  {
   "cell_type": "code",
   "execution_count": 2,
   "metadata": {},
   "outputs": [],
   "source": [
    "device = torch.device(\"cuda:0\" if torch.cuda.is_available() else \"cpu\")"
   ]
  },
  {
   "cell_type": "code",
   "execution_count": 3,
   "metadata": {
    "scrolled": true
   },
   "outputs": [],
   "source": [
    "with open('sonnets.txt', 'r') as iofile:\n",
    "    text = iofile.readlines()"
   ]
  },
  {
   "cell_type": "code",
   "execution_count": 4,
   "metadata": {},
   "outputs": [],
   "source": [
    "TEXT_START = 45\n",
    "TEXT_END = -368\n",
    "text = text[TEXT_START : TEXT_END]\n",
    "assert len(text) == 2616"
   ]
  },
  {
   "cell_type": "markdown",
   "metadata": {},
   "source": [
    "In opposite to the in-class practice, this time we want to predict complex text. Let's reduce the complexity of the task and lowercase all the symbols.\n",
    "\n",
    "Now variable `text` is a list of strings. Join all the strings into one and lowercase it."
   ]
  },
  {
   "cell_type": "code",
   "execution_count": 5,
   "metadata": {},
   "outputs": [
    {
     "name": "stdout",
     "output_type": "stream",
     "text": [
      "OK!\n"
     ]
    }
   ],
   "source": [
    "# Join all the strings into one and lowercase it\n",
    "# Put result into variable text.\n",
    "\n",
    "text = ''.join(text).lower()\n",
    "\n",
    "assert len(text) == 100225, 'Are you sure you have concatenated all the strings?'\n",
    "assert not any([x in set(text) for x in string.ascii_uppercase]), 'Uppercase letters are present'\n",
    "print('OK!')"
   ]
  },
  {
   "cell_type": "markdown",
   "metadata": {},
   "source": [
    "Put all the characters, that you've seen in the text, into variable `tokens`."
   ]
  },
  {
   "cell_type": "code",
   "execution_count": 6,
   "metadata": {},
   "outputs": [],
   "source": [
    "tokens = sorted(set(text)) + ['/']"
   ]
  },
  {
   "cell_type": "markdown",
   "metadata": {},
   "source": [
    "Create dictionary `token_to_idx = {<char>: <index>}` and dictionary `idx_to_token = {<index>: <char>}`"
   ]
  },
  {
   "cell_type": "code",
   "execution_count": 7,
   "metadata": {},
   "outputs": [],
   "source": [
    "# dict <index>:<char>\n",
    "token_to_idx = {token: idx for idx, token in enumerate(tokens)}\n",
    "\n",
    "# dict <char>:<index>\n",
    "idx_to_token = {idx: token for token, idx in token_to_idx.items()}"
   ]
  },
  {
   "cell_type": "markdown",
   "metadata": {},
   "source": [
    "*Comment: in this task we have only 38 different tokens, so let's use one-hot encoding.*"
   ]
  },
  {
   "cell_type": "markdown",
   "metadata": {},
   "source": [
    "### Генерация по абзацам (параграф на обучение)"
   ]
  },
  {
   "cell_type": "markdown",
   "metadata": {},
   "source": [
    "попробуем сформировать батчи, используя абзацы текста шекспира"
   ]
  },
  {
   "cell_type": "code",
   "execution_count": 8,
   "metadata": {},
   "outputs": [],
   "source": [
    "text_paragraphs = list(map(lambda x: x.strip(), text.split('\\n')))"
   ]
  },
  {
   "cell_type": "code",
   "execution_count": 9,
   "metadata": {},
   "outputs": [],
   "source": [
    "paragraphs = []\n",
    "paragraph = []\n",
    "for line in text_paragraphs:\n",
    "    if len(line) > 0:\n",
    "        paragraph.append(line)\n",
    "    else:\n",
    "        if len(paragraph) > 1:\n",
    "            paragraphs.append(paragraph)\n",
    "        paragraph = []\n",
    "        \n",
    "paragraphs = list(map(lambda x: '\\n '.join(x),paragraphs))"
   ]
  },
  {
   "cell_type": "markdown",
   "metadata": {},
   "source": [
    "#### Рапределение длин абзацов по символьная"
   ]
  },
  {
   "cell_type": "code",
   "execution_count": 10,
   "metadata": {},
   "outputs": [
    {
     "data": {
      "image/png": "[encoded data removed]",
      "text/plain": [
       "<Figure size 432x288 with 1 Axes>"
      ]
     },
     "metadata": {
      "needs_background": "light"
     },
     "output_type": "display_data"
    }
   ],
   "source": [
    "plt.title(\"Distribution of paragraphs length\")\n",
    "plt.hist(list(map(len,paragraphs)), bins = 30);"
   ]
  },
  {
   "cell_type": "code",
   "execution_count": 14,
   "metadata": {},
   "outputs": [],
   "source": [
    "class RNN_gen(nn.Module):\n",
    "    def __init__(self, num_tokens=len(tokens), emb_size=5, hidden_size=64, num_layers = 1):\n",
    "        super(self.__class__, self).__init__()\n",
    "        self.emb = nn.Embedding(num_tokens, emb_size)\n",
    "        self.rnn = nn.RNN(emb_size, hidden_size, num_layers = num_layers, batch_first=True)\n",
    "        self.hid_to_logits = nn.Linear(hidden_size, num_tokens)\n",
    "        \n",
    "    def forward(self, x, h_prev = None):\n",
    "        h_seq, h_next = self.rnn(self.emb(x),h_prev)\n",
    "        next_logits = self.hid_to_logits(h_seq)\n",
    "        next_logp = F.log_softmax(next_logits, dim=-1)\n",
    "        return next_logp, h_next"
   ]
  },
  {
   "cell_type": "code",
   "execution_count": 15,
   "metadata": {},
   "outputs": [],
   "source": [
    "def to_matrix(names, max_len=None, pad=token_to_idx['/'], dtype='int32', batch_first = True):\n",
    "    \"\"\"Casts a list of names into rnn-digestable matrix\"\"\"\n",
    "    \n",
    "    max_len = max_len or max(map(len, names))\n",
    "    names_ix = np.zeros([len(names), max_len], dtype) + pad\n",
    "\n",
    "    for i in range(len(names)):\n",
    "        line_ix = [token_to_idx[c] for c in names[i]]\n",
    "        names_ix[i, :len(line_ix)] = line_ix\n",
    "        \n",
    "    if not batch_first: # convert [batch, time] into [time, batch]\n",
    "        names_ix = np.transpose(names_ix)\n",
    "\n",
    "    return names_ix"
   ]
  },
  {
   "cell_type": "markdown",
   "metadata": {},
   "source": [
    "#### Pretraining"
   ]
  },
  {
   "cell_type": "code",
   "execution_count": 16,
   "metadata": {},
   "outputs": [
    {
     "data": {
      "text/plain": [
       "tensor(3.6527, grad_fn=<NllLossBackward>)"
      ]
     },
     "execution_count": 16,
     "metadata": {},
     "output_type": "execute_result"
    }
   ],
   "source": [
    "batch_ix = to_matrix([paragraphs[x] for x in random.sample(range(0, len(paragraphs)), 5)])\n",
    "batch_ix = torch.tensor(batch_ix, dtype=torch.int64)\n",
    "\n",
    "model = RNN_gen()\n",
    "criterion = nn.NLLLoss()\n",
    "logp_seq, _ = model(batch_ix)\n",
    "loss = criterion(logp_seq[:, :-1].contiguous().view(-1, len(tokens)),\n",
    "                 batch_ix[:, 1:].contiguous().view(-1))\n",
    "\n",
    "loss.backward()\n",
    "loss"
   ]
  },
  {
   "cell_type": "code",
   "execution_count": 17,
   "metadata": {},
   "outputs": [],
   "source": [
    "MAX_LENGTH = 600\n",
    "def generate_sample(char_rnn, seed_phrase=' hello', max_length=MAX_LENGTH, temperature=1.0):\n",
    "    '''\n",
    "    The function generates text given a phrase of length at least SEQ_LENGTH.\n",
    "    :param seed_phrase: prefix characters. The RNN is asked to continue the phrase\n",
    "    :param max_length: maximum output length, including seed_phrase\n",
    "    :param temperature: coefficient for sampling.  higher temperature produces more chaotic outputs, \n",
    "        smaller temperature converges to the single most likely output.\n",
    "        \n",
    "    Be careful with the model output. This model waits logits (not probabilities/log-probabilities)\n",
    "    of the next symbol.\n",
    "    '''\n",
    "    \n",
    "    x_sequence = [token_to_idx[token] for token in seed_phrase]\n",
    "    x_sequence = torch.tensor([[x_sequence]], dtype=torch.int64).to(device)\n",
    "    hid_state = None\n",
    "    \n",
    "    #feed the seed phrase, if any\n",
    "    for i in range(len(seed_phrase) - 1):\n",
    "        out, hid_state = char_rnn(x_sequence[:, :, i], hid_state)\n",
    "    \n",
    "    #start generating\n",
    "    for _ in range(max_length - len(seed_phrase)):\n",
    "        out, hid_state = char_rnn(x_sequence[:, :, -1], hid_state)\n",
    "        # Be really careful here with the model output\n",
    "        p_next = F.softmax(out[-1, :, :] / temperature, dim=-1).cpu().data.numpy()[0]\n",
    "        \n",
    "        # sample next token and push it back into x_sequence\n",
    "        next_ix = np.random.choice(len(tokens), p=p_next)\n",
    "        next_ix = torch.tensor([[next_ix]], dtype=torch.int64).to(device)\n",
    "        next_ix.unsqueeze_(2)\n",
    "        \n",
    "        x_sequence = torch.cat([x_sequence, next_ix], dim=2)\n",
    "\n",
    "    return ''.join([idx_to_token[ix] for ix in x_sequence.cpu().data.numpy()[0][0]])"
   ]
  },
  {
   "cell_type": "code",
   "execution_count": 18,
   "metadata": {},
   "outputs": [
    {
     "name": "stdout",
     "output_type": "stream",
     "text": [
      "love the proud a finders would the strange thy shall stay,\n",
      " and shall not still where i surfer, the strange mine own should be thy beauty,\n",
      " and there is the sovery of the read,\n",
      " that shall i love thou art for my compless'd the bear beauty be to be and me of the world to be and beauty still,\n",
      " the world to be thy consence doth prove the verse thee that is and see the grownon the well,\n",
      " the condering so the strong do not seem the with the wilts with thy sing,\n",
      " and then the world to thee to the strange thy sing,\n",
      " and therefore is thy sweet seem the world to thee that shall not still the surfer sti\n"
     ]
    },
    {
     "data": {
      "image/png": "[encoded data removed]",
      "text/plain": [
       "<Figure size 432x288 with 1 Axes>"
      ]
     },
     "metadata": {
      "needs_background": "light"
     },
     "output_type": "display_data"
    }
   ],
   "source": [
    "MAX_LENGTH = max(map(len,paragraphs))\n",
    "\n",
    "model = RNN_gen(hidden_size = 200).to(device)\n",
    "criterion = nn.NLLLoss()\n",
    "opt = torch.optim.Adam(model.parameters())\n",
    "\n",
    "history = []\n",
    "for i in range(2000):\n",
    "    batch_ix = to_matrix([paragraphs[x] for x in random.sample(range(0, len(paragraphs)), 16)])\n",
    "    batch_ix = torch.tensor(batch_ix, dtype=torch.int64).to(device)\n",
    "    \n",
    "    logp_seq, _ = model(batch_ix)\n",
    "    \n",
    "    # compute loss\n",
    "    predictions_logp = logp_seq[:, :-1]# YOUR CODE HERE\n",
    "    actual_next_tokens = batch_ix[:, 1:]# YOUR CODE HERE\n",
    "\n",
    "    #loss = # YOUR CODE HERE\n",
    "    loss = criterion(predictions_logp.contiguous().view(-1, len(tokens)), \n",
    "                  actual_next_tokens.contiguous().view(-1))\n",
    "    \n",
    "    # train with backprop\n",
    "    # YOUR CODE HERE\n",
    "    loss.backward()\n",
    "    opt.step()\n",
    "    opt.zero_grad()\n",
    "    \n",
    "    history.append(loss.cpu().data.numpy())\n",
    "    if (i+1)%40==0:\n",
    "        clear_output(True)\n",
    "        with torch.no_grad():\n",
    "            print(generate_sample(model, seed_phrase='love ', temperature=0.3))\n",
    "        plt.plot(history,label='train loss')\n",
    "        plt.legend()\n",
    "        plt.show()\n",
    "        \n",
    "assert np.mean(history[:10]) > np.mean(history[-10:]), \"RNN didn't converge.\""
   ]
  },
  {
   "cell_type": "code",
   "execution_count": 19,
   "metadata": {},
   "outputs": [
    {
     "name": "stdout",
     "output_type": "stream",
     "text": [
      "ing the bear state,\n",
      " and there both shame i be see not speed shall stay,\n",
      " when i be thy single of the gaints are breast,\n",
      " so thou that the will be state,\n",
      " and then that i have steet so shall be thy sweet see the canst the world the thing me things the world the strange thee that i conder that i do be in grace of the seembl'd the beath the world to shor mence and sing,\n",
      " and there all the strange my love the streagut of the waster and from the strange mine eyes for the beauty's purt,\n",
      " and then thou art the strange thee,\n",
      " and beauty stand,\n",
      " though the will in thee thy sage, that i preast to the w\n"
     ]
    }
   ],
   "source": [
    "print(generate_sample(model, seed_phrase='i', temperature=0.3))"
   ]
  },
  {
   "cell_type": "code",
   "execution_count": 20,
   "metadata": {},
   "outputs": [
    {
     "name": "stdout",
     "output_type": "stream",
     "text": [
      "if thoughtst spienl,\n",
      "-'denrt puchlyawite\n",
      " buiq stort modens'mwars wo i, wherelorn evreat'ss an et'cbl'gloed.\n",
      " o! wanlil't.\n",
      " hes wrac\n",
      " s,arloose bly uight to grac.\n",
      " o! imitb my jinjuyisy, and qefatye\n",
      " why towest, anmuetald brint;\n",
      " and thusla-tio! he tvy denrud i, jys?\n",
      " whetriek mm, ler,\n",
      " infam!anil, haccowy?\n",
      " ipage; not sqnes:\n",
      " rink dayc?\n",
      ",\n",
      " kame kor, teing! dost,\n",
      " rmmse shal! be civedt stavery is otire,\n",
      " seaun, equer lairesw touds.\n",
      " then i hlave, racrur mecamis,\n",
      " an hem hawting to lpel\n",
      " mo nonfw?hey a yyow'gin nixale!\n",
      " shoudh murlucs befum;, and daind with not:k;\n",
      " low'-tlricire hast?/ 'occile \n"
     ]
    }
   ],
   "source": [
    "print(generate_sample(model, seed_phrase='i', temperature=1.6))"
   ]
  },
  {
   "cell_type": "markdown",
   "metadata": {},
   "source": [
    "#### Попробуем увеличить числи слоев в RNN"
   ]
  },
  {
   "cell_type": "code",
   "execution_count": 21,
   "metadata": {},
   "outputs": [
    {
     "name": "stdout",
     "output_type": "stream",
     "text": [
      "love is must eyes thy form that is so fair alone:\n",
      " their incels,\n",
      " be stope.\n",
      " o! now thy death,\n",
      " as thou shouldst thou thy sake;\n",
      " feet strengthen's pride,\n",
      " so love her fead sim for conscires, and all this tor they see as thy books graces have i amsem man age,\n",
      " the mark head truth to show it not seem love stont./////////////////////////////////////////////////////////////////////////////////////////////////////////////////////////////////////////////////////////////////////////////////////////////////////////////////////////////////////////////////////////////////////////////////////////////////\n"
     ]
    },
    {
     "data": {
      "image/png": "[encoded data removed]",
      "text/plain": [
       "<Figure size 432x288 with 1 Axes>"
      ]
     },
     "metadata": {
      "needs_background": "light"
     },
     "output_type": "display_data"
    }
   ],
   "source": [
    "MAX_LENGTH = max(map(len,paragraphs))\n",
    "\n",
    "model = RNN_gen(hidden_size = 200, num_layers = 3).to(device)\n",
    "criterion = nn.NLLLoss()\n",
    "opt = torch.optim.Adam(model.parameters())\n",
    "\n",
    "history = []\n",
    "for i in range(2000):\n",
    "    batch_ix = to_matrix([paragraphs[x] for x in random.sample(range(0, len(paragraphs)), 16)])\n",
    "    batch_ix = torch.tensor(batch_ix, dtype=torch.int64).to(device)\n",
    "    \n",
    "    logp_seq, _ = model(batch_ix)\n",
    "    \n",
    "    # compute loss\n",
    "    predictions_logp = logp_seq[:, :-1]# YOUR CODE HERE\n",
    "    actual_next_tokens = batch_ix[:, 1:]# YOUR CODE HERE\n",
    "\n",
    "    #loss = # YOUR CODE HERE\n",
    "    loss = criterion(predictions_logp.contiguous().view(-1, len(tokens)), \n",
    "                  actual_next_tokens.contiguous().view(-1))\n",
    "    \n",
    "    # train with backprop\n",
    "    # YOUR CODE HERE\n",
    "    loss.backward()\n",
    "    opt.step()\n",
    "    opt.zero_grad()\n",
    "    \n",
    "    history.append(loss.cpu().data.numpy())\n",
    "    if (i+1)%40==0:\n",
    "        clear_output(True)\n",
    "        with torch.no_grad():\n",
    "            print(generate_sample(model, seed_phrase='love ', temperature=0.3))\n",
    "        plt.plot(history,label='train loss')\n",
    "        plt.legend()\n",
    "        plt.show()\n",
    "        \n",
    "assert np.mean(history[:10]) > np.mean(history[-10:]), \"RNN didn't converge.\""
   ]
  },
  {
   "cell_type": "code",
   "execution_count": 22,
   "metadata": {},
   "outputs": [
    {
     "name": "stdout",
     "output_type": "stream",
     "text": [
      "if thy soul that i const it to my were on the suncrence is enver true this,\n",
      " and like our love sail, she store,\n",
      " when in my fair fair heart trust;\n",
      " end feastr of surveating evrure.\n",
      " love, and they, as find romp,\n",
      " prove thres are parture too should in thine eye,\n",
      " and in thee\n",
      " to grief\n",
      " to bear that in another time's fair shall be the praise thee, if earing still,\n",
      " and see thy fair new.\n",
      " reaght, that mine eye a swondating stand,\n",
      " stealing a fair hath my addel sun't my believe thou art the dead name will be the stard\n",
      " of true time with my love's fresh ornerit it now see again, and do i not sweet \n"
     ]
    }
   ],
   "source": [
    "print(generate_sample(model, seed_phrase='i', temperature=0.3))"
   ]
  },
  {
   "cell_type": "code",
   "execution_count": 26,
   "metadata": {},
   "outputs": [
    {
     "name": "stdout",
     "output_type": "stream",
     "text": [
      "it it nor through i, and crow?\n",
      " widnd not be,\n",
      " and legkhs kings,\n",
      " add'st thou knobm wrom'd and to eightm overnse uphert no, be hence.\n",
      " o! unjus:\n",
      " hy arvow hymcainst take should dear found.\n",
      " if receive to-th?our;\n",
      " werchosured: phy inkicftakind'es abife impre's dire aloneen;\n",
      " ?or eene beauty's hath, and umbain doth alone:\n",
      " thy bowourixst my eltcying outwast! my lovers use't not emen thlust, well stain who soone.///////////////////////////////////////////////////////////////////////////////////////////////////////////////////////////////////////////////////////////////////////////////////////////\n"
     ]
    }
   ],
   "source": [
    "print(generate_sample(model, seed_phrase='i', temperature=1.6))"
   ]
  },
  {
   "cell_type": "markdown",
   "metadata": {},
   "source": [
    "### More poetic model\n",
    "\n",
    "Let's use LSTM instead of vanilla RNN and compare the results."
   ]
  },
  {
   "cell_type": "markdown",
   "metadata": {},
   "source": [
    "Plot the loss function of the number of epochs. Does the final loss become better?"
   ]
  },
  {
   "cell_type": "code",
   "execution_count": 27,
   "metadata": {},
   "outputs": [],
   "source": [
    "class LSTM_gen(nn.Module):\n",
    "    def __init__(self, num_tokens=len(tokens), emb_size=5, hidden_size=64, num_layers = 1):\n",
    "        super(self.__class__, self).__init__()\n",
    "        self.emb = nn.Embedding(num_tokens, emb_size)\n",
    "        self.rnn = nn.LSTM(emb_size, hidden_size, batch_first=True, num_layers  = num_layers)\n",
    "        self.hid_to_logits = nn.Linear(hidden_size, num_tokens)\n",
    "        \n",
    "    def forward(self, x, h_prev = None):\n",
    "        h_seq, h_next = self.rnn(self.emb(x),h_prev)\n",
    "        next_logits = self.hid_to_logits(h_seq)\n",
    "        next_logp = F.log_softmax(next_logits, dim=-1)\n",
    "        return next_logp, h_next"
   ]
  },
  {
   "cell_type": "code",
   "execution_count": 28,
   "metadata": {},
   "outputs": [
    {
     "name": "stdout",
     "output_type": "stream",
     "text": [
      "love ent where thou thee, and there be of your pain,\n",
      " the stores of the to beauty should and day,\n",
      " that i see thou make the live the warter pair,\n",
      " and loves and heart the strong tongues to be.\n",
      " in the sweet of my heart that thine eyes wite,\n",
      " that thou art the read the winder the dight,\n",
      " and therefore but i seep and the say be.\n",
      " the care the connual have in the dook sad,\n",
      " whilst thou thy self dost the strely gill'd,\n",
      " the eact mase be the will of the ware,\n",
      " and somethes fresers with the strong thine,\n",
      " the war when i have and of the deast thee,\n",
      " where i the will worth, the love the pair thou trut\n"
     ]
    },
    {
     "data": {
      "image/png": "[encoded data removed]",
      "text/plain": [
       "<Figure size 432x288 with 1 Axes>"
      ]
     },
     "metadata": {
      "needs_background": "light"
     },
     "output_type": "display_data"
    }
   ],
   "source": [
    "MAX_LENGTH = max(map(len,paragraphs))\n",
    "\n",
    "model = LSTM_gen(hidden_size = 200).to(device)\n",
    "criterion = nn.NLLLoss()\n",
    "opt = torch.optim.Adam(model.parameters())\n",
    "\n",
    "history = []\n",
    "for i in range(2000):\n",
    "    batch_ix = to_matrix([paragraphs[x] for x in random.sample(range(0, len(paragraphs)), 16)])\n",
    "    batch_ix = torch.tensor(batch_ix, dtype=torch.int64).to(device)\n",
    "    \n",
    "    logp_seq, _ = model(batch_ix)\n",
    "    \n",
    "    # compute loss\n",
    "    predictions_logp = logp_seq[:, :-1]# YOUR CODE HERE\n",
    "    actual_next_tokens = batch_ix[:, 1:]# YOUR CODE HERE\n",
    "\n",
    "    #loss = # YOUR CODE HERE\n",
    "    loss = criterion(predictions_logp.contiguous().view(-1, len(tokens)), \n",
    "                  actual_next_tokens.contiguous().view(-1))\n",
    "    \n",
    "    # train with backprop\n",
    "    # YOUR CODE HERE\n",
    "    loss.backward()\n",
    "    opt.step()\n",
    "    opt.zero_grad()\n",
    "    \n",
    "    history.append(loss.cpu().data.numpy())\n",
    "    if (i+1)%40==0:\n",
    "        clear_output(True)\n",
    "        with torch.no_grad():\n",
    "            print(generate_sample(model, seed_phrase='love ', temperature=0.3))\n",
    "        plt.plot(history,label='train loss')\n",
    "        plt.legend()\n",
    "        plt.show()\n",
    "        \n",
    "assert np.mean(history[:10]) > np.mean(history[-10:]), \"RNN didn't converge.\""
   ]
  },
  {
   "cell_type": "code",
   "execution_count": 29,
   "metadata": {},
   "outputs": [
    {
     "name": "stdout",
     "output_type": "stream",
     "text": [
      "me all the such that the waster and still,\n",
      " and thou art some in the to be or me,\n",
      " the will my love, thou worth the wrom thee store,\n",
      " when i be oft so all the strength are dear;\n",
      " the world so doth such that with thee then the connute,\n",
      " and the streng that the strely gare thee state,\n",
      " the range my love, i war for my stant,\n",
      " and this beauty of the strong to thee./////////////////////////////////////////////////////////////////////////////////////////////////////////////////////////////////////////////////////////////////////////////////////////////////////////////////////////////////////////////\n"
     ]
    }
   ],
   "source": [
    "print(generate_sample(model, seed_phrase='me', temperature=0.3))"
   ]
  },
  {
   "cell_type": "code",
   "execution_count": 30,
   "metadata": {},
   "outputs": [
    {
     "name": "stdout",
     "output_type": "stream",
     "text": [
      "me, iw,h and petarsn,, i onncayue 'wrt's\n",
      " tawe, st ayisubcold derage love:\n",
      " soil yought faon i haty'lear of yeir,\n",
      " ere/ ondvendouts'd aly,e wesid?ies;\n",
      " in meath,, vyitmer, anpewh-gr ahjebfere muy,\n",
      " whicr poild as hid my pald one?'roinc higcre.\n",
      " swinls i kmliok'ds witilauty! nor to egpa'l by-nst?\n",
      " to bis ro nate ede de'ty., anow gdeesst\n",
      " khoping sweeit sid'',;'xptpepmicediess kefpiga;''.\n",
      " hackont by need, felj showls, and me; expime hiat:,\n",
      " direhit spill; 'xrf-bead'st nowarn roudd'n spice) olt:\n",
      " now till pam! mich now,is, kn'eaccetstow trt:\n",
      "-sr romrs-mir in the geace pruerifouls leelr\n",
      " tit ring\n"
     ]
    }
   ],
   "source": [
    "print(generate_sample(model, seed_phrase='me', temperature=1.6))"
   ]
  },
  {
   "cell_type": "markdown",
   "metadata": {},
   "source": [
    "#### Попробуем увеличить число слоев в LSTM"
   ]
  },
  {
   "cell_type": "code",
   "execution_count": 31,
   "metadata": {},
   "outputs": [
    {
     "name": "stdout",
     "output_type": "stream",
     "text": [
      "love is my verse as the seees\n",
      " decease, to be is it not so;\n",
      " to well in the stars to endoure of the seem,\n",
      " which i will not show it is not so deeming;\n",
      " then then make me so thee three of theeest\n",
      " is in the face praise of soung of his seen,\n",
      " though i snow not self dost beauty to the staring,\n",
      " when thou art assising against the still when the oftar disage:\n",
      " then mine eye i hasted be asel be than a from thee,\n",
      " who like a save thee me my self diseate./////////////////////////////////////////////////////////////////////////////////////////////////////////////////////////////////////////////////////\n"
     ]
    },
    {
     "data": {
      "image/png": "[encoded data removed]",
      "text/plain": [
       "<Figure size 432x288 with 1 Axes>"
      ]
     },
     "metadata": {
      "needs_background": "light"
     },
     "output_type": "display_data"
    }
   ],
   "source": [
    "MAX_LENGTH = max(map(len,paragraphs))\n",
    "\n",
    "model = LSTM_gen(hidden_size = 200, num_layers = 3).to(device)\n",
    "criterion = nn.NLLLoss()\n",
    "opt = torch.optim.Adam(model.parameters())\n",
    "\n",
    "history = []\n",
    "for i in range(2000):\n",
    "    batch_ix = to_matrix([paragraphs[x] for x in random.sample(range(0, len(paragraphs)), 16)])\n",
    "    batch_ix = torch.tensor(batch_ix, dtype=torch.int64).to(device)\n",
    "    \n",
    "    logp_seq, _ = model(batch_ix)\n",
    "    \n",
    "    # compute loss\n",
    "    predictions_logp = logp_seq[:, :-1]# YOUR CODE HERE\n",
    "    actual_next_tokens = batch_ix[:, 1:]# YOUR CODE HERE\n",
    "\n",
    "    #loss = # YOUR CODE HERE\n",
    "    loss = criterion(predictions_logp.contiguous().view(-1, len(tokens)), \n",
    "                  actual_next_tokens.contiguous().view(-1))\n",
    "    \n",
    "    # train with backprop\n",
    "    # YOUR CODE HERE\n",
    "    loss.backward()\n",
    "    opt.step()\n",
    "    opt.zero_grad()\n",
    "    \n",
    "    history.append(loss.cpu().data.numpy())\n",
    "    if (i+1)%40==0:\n",
    "        clear_output(True)\n",
    "        with torch.no_grad():\n",
    "            print(generate_sample(model, seed_phrase='love ', temperature=0.3))\n",
    "        plt.plot(history,label='train loss')\n",
    "        plt.legend()\n",
    "        plt.show()\n",
    "        \n",
    "assert np.mean(history[:10]) > np.mean(history[-10:]), \"RNN didn't converge.\""
   ]
  },
  {
   "cell_type": "code",
   "execution_count": 32,
   "metadata": {},
   "outputs": [
    {
     "name": "stdout",
     "output_type": "stream",
     "text": [
      "me say thy most thou say to sear you dost stay\n",
      " were you with thee world thy shadow of youth,\n",
      " and all my brast that that so thine eyes doth clear;\n",
      " and i make me well as a from thee,\n",
      " that i have stand i say the some one wanting set,\n",
      " and praise them my mistress' eyes worth they shalt dearty;\n",
      " thereed, and in my sound mad ware waste;\n",
      " nor sweetled bare of theeeere,\n",
      " the consect is thy body,\n",
      " and thereff i think and they belong, fortal still,\n",
      " and make the sun my love, my langery'st\n",
      " when thou art alone thee that thou art by their spite,\n",
      " and i am from their profe than entchth of mane\n",
      " as stol\n"
     ]
    }
   ],
   "source": [
    "print(generate_sample(model, seed_phrase='me', temperature=0.3))"
   ]
  },
  {
   "cell_type": "code",
   "execution_count": 42,
   "metadata": {},
   "outputs": [
    {
     "name": "stdout",
     "output_type": "stream",
     "text": [
      "me gaves fell is but grieves nudres! lethm then;\n",
      " widtich her laws now your vou'c of invised:\n",
      " i bry changri is afal they in-orlence,\n",
      " say i  lith throught vet ere ktawk:\n",
      " light tenful, to-dakh wiving what is dobst;\n",
      " for need which i hold man, well you with my smor:\n",
      " beyist, stand sc errough' kindres dry in, knawl., death, thy wizh, hinds? ms must with veagu'd?\n",
      " non me vancianre exery pilak'd trnesp,\n",
      " and pomence wijk -hy minsn's part unmer;fane: in your fautes,\n",
      " gy foonexion admattext.n//\n",
      " nugagen from, their will, it, nor coll; which terd jurmuxs'd!\n",
      " hoth firied gain, on thee silfely,\n",
      " time'\n"
     ]
    }
   ],
   "source": [
    "print(generate_sample(model, seed_phrase='me', temperature=1.6))"
   ]
  },
  {
   "cell_type": "markdown",
   "metadata": {},
   "source": [
    "### Генерация по словам (параграф на обучение)"
   ]
  },
  {
   "cell_type": "code",
   "execution_count": 43,
   "metadata": {},
   "outputs": [],
   "source": [
    "from nltk.tokenize import TweetTokenizer"
   ]
  },
  {
   "cell_type": "code",
   "execution_count": 44,
   "metadata": {},
   "outputs": [],
   "source": [
    "vocabulary = set(TweetTokenizer().tokenize(' '.join(paragraphs)))\n",
    "vocabulary.add('<pad>')"
   ]
  },
  {
   "cell_type": "code",
   "execution_count": 45,
   "metadata": {},
   "outputs": [],
   "source": [
    "## \n",
    "token_to_idx = {word: idx for idx, word in enumerate(vocabulary)}\n",
    "\n",
    "idx_to_token = {word: idx for idx, word in token_to_idx.items()}\n",
    "assert idx_to_token[token_to_idx['love']]=='love'"
   ]
  },
  {
   "cell_type": "code",
   "execution_count": 46,
   "metadata": {},
   "outputs": [],
   "source": [
    "class WordClassifier(nn.Module):\n",
    "    def __init__(self, emb_size=16, rnn_num_units = 10, num_layers = 1):\n",
    "        super().__init__()\n",
    "        self.emb = nn.Embedding(len(vocabulary),emb_size)\n",
    "        self.rnn = nn.LSTM(emb_size, rnn_num_units, batch_first=True, num_layers = num_layers)\n",
    "        self.hid_to_logits = nn.Linear(rnn_num_units, len(vocabulary))\n",
    "    \n",
    "    def forward(self, x, h_prev = None):\n",
    "        output, h_n = self.rnn(self.emb(x), h_prev)\n",
    "        output = self.hid_to_logits(output)\n",
    "        return output, h_n"
   ]
  },
  {
   "cell_type": "code",
   "execution_count": 47,
   "metadata": {},
   "outputs": [],
   "source": [
    "def to_matrix(paragraphs, max_len=None, pad=token_to_idx['<pad>'], dtype='int32', batch_first = True):\n",
    "    \"\"\"Casts a list of names into rnn-digestable matrix\"\"\"\n",
    "    \n",
    "    paragraphs = [TweetTokenizer().tokenize(name) for name in paragraphs]\n",
    "    max_len = max_len or max(map(len, paragraphs))\n",
    "    paragraphs_ix = np.zeros([len(paragraphs), max_len], dtype) + pad\n",
    "    for i in range(len(paragraphs)):\n",
    "        line_ix = [token_to_idx[c] for c in paragraphs[i]]\n",
    "        paragraphs_ix[i, :len(line_ix)] = line_ix\n",
    "        \n",
    "    if not batch_first: # convert [batch, time] into [time, batch]\n",
    "        paragraphs_ix = np.transpose(paragraphs)\n",
    "\n",
    "    return paragraphs_ix"
   ]
  },
  {
   "cell_type": "markdown",
   "metadata": {},
   "source": [
    "### Pretraining"
   ]
  },
  {
   "cell_type": "code",
   "execution_count": 48,
   "metadata": {},
   "outputs": [
    {
     "data": {
      "text/plain": [
       "tensor(8.1356, device='cuda:0', grad_fn=<NllLossBackward>)"
      ]
     },
     "execution_count": 48,
     "metadata": {},
     "output_type": "execute_result"
    }
   ],
   "source": [
    "batch_ix = to_matrix([paragraphs[x] for x in random.sample(range(0, len(paragraphs)), 5)])\n",
    "batch_ix = torch.tensor(batch_ix, dtype=torch.int64).to(device)\n",
    "\n",
    "model = WordClassifier().to(device)\n",
    "\n",
    "criterion = nn.CrossEntropyLoss()\n",
    "logp_seq, _ = model(batch_ix)\n",
    "loss = criterion(logp_seq[:, :-1].contiguous().view(-1, len(vocabulary)),\n",
    "                 batch_ix[:, 1:].contiguous().view(-1))\n",
    "\n",
    "loss.backward()\n",
    "loss"
   ]
  },
  {
   "cell_type": "code",
   "execution_count": 50,
   "metadata": {},
   "outputs": [],
   "source": [
    "MAX_LENGTH = 50\n",
    "def generate_sample(char_rnn, seed_phrase='hello', max_length=MAX_LENGTH, temperature=1.0):\n",
    "    '''\n",
    "    The function generates text given a phrase of length at least SEQ_LENGTH.\n",
    "    :param seed_phrase: prefix characters. The RNN is asked to continue the phrase\n",
    "    :param max_length: maximum output length, including seed_phrase\n",
    "    :param temperature: coefficient for sampling.  higher temperature produces more chaotic outputs, \n",
    "        smaller temperature converges to the single most likely output.\n",
    "        \n",
    "    Be careful with the model output. This model waits logits (not probabilities/log-probabilities)\n",
    "    of the next symbol.\n",
    "    '''\n",
    "    \n",
    "    x_sequence = [token_to_idx[token] for token in TweetTokenizer().tokenize(seed_phrase)]\n",
    "    x_sequence = torch.tensor([[x_sequence]], dtype=torch.int64).to(device)\n",
    "    hid_state = None\n",
    "    \n",
    "    #feed the seed phrase, if any\n",
    "    for i in range(len(TweetTokenizer().tokenize(seed_phrase)) - 1):\n",
    "        out, hid_state = char_rnn(x_sequence[:, :, i], hid_state)\n",
    "    \n",
    "    #start generating\n",
    "    for _ in range(max_length - len(seed_phrase)):\n",
    "        out, hid_state = char_rnn(x_sequence[:, :, -1], hid_state)\n",
    "        # Be really careful here with the model output\n",
    "        p_next = F.softmax(out[-1, :, :] / temperature, dim=-1).cpu().data.numpy()[0]\n",
    "        \n",
    "        # sample next token and push it back into x_sequence\n",
    "        next_ix = np.random.choice(len(vocabulary), p=p_next)\n",
    "        next_ix = torch.tensor([[next_ix]], dtype=torch.int64).to(device)\n",
    "        next_ix.unsqueeze_(2)\n",
    "        \n",
    "        x_sequence = torch.cat([x_sequence, next_ix], dim=2)\n",
    "\n",
    "    return ' '.join([idx_to_token[ix] for ix in x_sequence.cpu().data.numpy()[0][0]])"
   ]
  },
  {
   "cell_type": "code",
   "execution_count": 52,
   "metadata": {},
   "outputs": [
    {
     "name": "stdout",
     "output_type": "stream",
     "text": [
      "love , and thy self , that which thou art , and that thou art , and all my love , and the shore , and all thy heart , my heart , and ' thou art , and in thy side , and all my\n"
     ]
    },
    {
     "data": {
      "image/png": "[encoded data removed]",
      "text/plain": [
       "<Figure size 432x288 with 1 Axes>"
      ]
     },
     "metadata": {
      "needs_background": "light"
     },
     "output_type": "display_data"
    }
   ],
   "source": [
    "model = WordClassifier(rnn_num_units = 20).to(device)\n",
    "criterion = nn.CrossEntropyLoss()\n",
    "opt = torch.optim.Adam(model.parameters())\n",
    "\n",
    "history = []\n",
    "for i in range(2000):\n",
    "    batch_ix = to_matrix([paragraphs[x] for x in random.sample(range(0, len(paragraphs)), 32)])\n",
    "    batch_ix = torch.tensor(batch_ix, dtype=torch.int64).to(device)\n",
    "    \n",
    "    logp_seq, _ = model(batch_ix)\n",
    "    \n",
    "    # compute loss\n",
    "    predictions_logp = logp_seq[:, :-1]# YOUR CODE HERE\n",
    "    actual_next_tokens = batch_ix[:, 1:]# YOUR CODE HERE\n",
    "\n",
    "    #loss = # YOUR CODE HERE\n",
    "    loss = criterion(predictions_logp.contiguous().view(-1, len(vocabulary)), \n",
    "                  actual_next_tokens.contiguous().view(-1))\n",
    "    \n",
    "    # train with backprop\n",
    "    # YOUR CODE HERE\n",
    "    loss.backward()\n",
    "    opt.step()\n",
    "    opt.zero_grad()\n",
    "    \n",
    "    history.append(loss.cpu().data.numpy())\n",
    "    if (i+1)%40==0:\n",
    "        clear_output(True)\n",
    "        with torch.no_grad():\n",
    "            print(generate_sample(model, seed_phrase='love ', temperature=0.3))\n",
    "        plt.plot(history,label='train loss')\n",
    "        plt.legend()\n",
    "        plt.show()\n",
    "        \n",
    "assert np.mean(history[:10]) > np.mean(history[-10:]), \"RNN didn't converge.\""
   ]
  },
  {
   "cell_type": "code",
   "execution_count": 53,
   "metadata": {},
   "outputs": [
    {
     "name": "stdout",
     "output_type": "stream",
     "text": [
      "me , and my heart , and that is the world , and in me , and therefore but thy self , and all the shore , and in my face , and you , and true , and that i am i have , and for thy sweet\n"
     ]
    }
   ],
   "source": [
    "print(generate_sample(model, seed_phrase='me', temperature=0.4))"
   ]
  },
  {
   "cell_type": "code",
   "execution_count": 54,
   "metadata": {},
   "outputs": [
    {
     "name": "stdout",
     "output_type": "stream",
     "text": [
      "me free boldness have belongs ? of sue when foes asked in wherefore evil looking of thee knew is oblivion indeed lour'st , than our sins do but now monument in fortune's richer lame sin blame death , believe though speak despised physician niggard doubt to gives figur'd to\n"
     ]
    }
   ],
   "source": [
    "print(generate_sample(model, seed_phrase='me', temperature=1.6))"
   ]
  },
  {
   "cell_type": "code",
   "execution_count": 58,
   "metadata": {},
   "outputs": [
    {
     "name": "stdout",
     "output_type": "stream",
     "text": [
      "love <pad> <pad> <pad> <pad> <pad> <pad> <pad> <pad> <pad> <pad> <pad> <pad> <pad> <pad> <pad> <pad> <pad> <pad> <pad> <pad> <pad> <pad> <pad> <pad> <pad> <pad> <pad> <pad> <pad> <pad> <pad> <pad> <pad> <pad> <pad> <pad> <pad> <pad> <pad> <pad> <pad> <pad> <pad> <pad> <pad>\n"
     ]
    },
    {
     "data": {
      "image/png": "[encoded data removed]",
      "text/plain": [
       "<Figure size 432x288 with 1 Axes>"
      ]
     },
     "metadata": {
      "needs_background": "light"
     },
     "output_type": "display_data"
    }
   ],
   "source": [
    "model = WordClassifier(rnn_num_units = 10, num_layers = 2).to(device)\n",
    "criterion = nn.CrossEntropyLoss()\n",
    "opt = torch.optim.Adam(model.parameters())\n",
    "\n",
    "history = []\n",
    "for i in range(2000):\n",
    "    batch_ix = to_matrix([paragraphs[x] for x in random.sample(range(0, len(paragraphs)), 32)])\n",
    "    batch_ix = torch.tensor(batch_ix, dtype=torch.int64).to(device)\n",
    "    \n",
    "    logp_seq, _ = model(batch_ix)\n",
    "    \n",
    "    # compute loss\n",
    "    predictions_logp = logp_seq[:, :-1]# YOUR CODE HERE\n",
    "    actual_next_tokens = batch_ix[:, 1:]# YOUR CODE HERE\n",
    "\n",
    "    #loss = # YOUR CODE HERE\n",
    "    loss = criterion(predictions_logp.contiguous().view(-1, len(vocabulary)), \n",
    "                  actual_next_tokens.contiguous().view(-1))\n",
    "    \n",
    "    # train with backprop\n",
    "    # YOUR CODE HERE\n",
    "    loss.backward()\n",
    "    opt.step()\n",
    "    opt.zero_grad()\n",
    "    \n",
    "    history.append(loss.cpu().data.numpy())\n",
    "    if (i+1)%40==0:\n",
    "        clear_output(True)\n",
    "        with torch.no_grad():\n",
    "            print(generate_sample(model, seed_phrase='love ', temperature=0.3))\n",
    "        plt.plot(history,label='train loss')\n",
    "        plt.legend()\n",
    "        plt.show()\n",
    "        \n",
    "assert np.mean(history[:10]) > np.mean(history[-10:]), \"RNN didn't converge.\""
   ]
  },
  {
   "cell_type": "code",
   "execution_count": 57,
   "metadata": {},
   "outputs": [
    {
     "name": "stdout",
     "output_type": "stream",
     "text": [
      "love thou feed on your broad main , how who so love for my heart : i the best , whilst the anger thrusts into upon them moon and lusty , accumulate ; or made to invent of the bitterness of , do not in ' for\n"
     ]
    }
   ],
   "source": [
    "print(generate_sample(model, seed_phrase='love', temperature=1.))"
   ]
  },
  {
   "cell_type": "markdown",
   "metadata": {},
   "source": [
    "Выводы:\n",
    "    герация по словам не очень зашла по двум возможным причинам \n",
    "    1) мало данных\n",
    "    2) много уникальных слов\n",
    "    \n",
    "Зато можно заметить, что увеличение числа RNN/LSTM-слоев положительно сказалось на генерации:\n",
    "    Кросс Энтропия упала больше на модели с большим числом слоев"
   ]
  },
  {
   "cell_type": "markdown",
   "metadata": {},
   "source": [
    "### References\n",
    "1. <a href='http://karpathy.github.io/2015/05/21/rnn-effectiveness/'> Andrew Karpathy blog post about RNN. </a> \n",
    "There are several examples of genration: Shakespeare texts, Latex formulas, Linux Sourse Code and children names.\n",
    "2. <a href='https://github.com/karpathy/char-rnn'> Repo with char-rnn code </a>\n",
    "3. Cool repo with PyTorch examples: [link](https://github.com/spro/practical-pytorch`)"
   ]
  }
 ],
 "metadata": {
  "anaconda-cloud": {},
  "kernelspec": {
   "display_name": "Python 3",
   "language": "python",
   "name": "python3"
  },
  "language_info": {
   "codemirror_mode": {
    "name": "ipython",
    "version": 3
   },
   "file_extension": ".py",
   "mimetype": "text/x-python",
   "name": "python",
   "nbconvert_exporter": "python",
   "pygments_lexer": "ipython3",
   "version": "3.7.6"
  }
 },
 "nbformat": 4,
 "nbformat_minor": 2
}
