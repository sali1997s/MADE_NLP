{
 "cells": [
  {
   "cell_type": "code",
   "execution_count": null,
   "metadata": {},
   "outputs": [],
   "source": [
    "import os\n",
    "import sys\n",
    "import json\n",
    "import random\n",
    "from datetime import datetime\n",
    "from tqdm import tqdm_notebook as tqdm\n",
    "\n",
    "import numpy as np\n",
    "import torch\n",
    "import torch.nn as nn\n",
    "import torch.nn.functional as F\n",
    "from torchvision.transforms import transforms\n",
    "from nltk.tokenize import TweetTokenizer\n",
    "import torchtext.data\n",
    "from torchvision.datasets import coco\n",
    "from torch.utils.data import DataLoader\n",
    "\n",
    "from IPython.display import clear_output\n",
    "import matplotlib\n",
    "import matplotlib.pyplot as plt\n",
    "\n",
    "#import pretrainedmodels\n",
    "#from pretrainedmodels.utils import LoadImage, TransformImage"
   ]
  },
  {
   "cell_type": "code",
   "execution_count": null,
   "metadata": {},
   "outputs": [],
   "source": [
    "device = torch.device('cuda' if torch.cuda.is_available else 'cpu')"
   ]
  },
  {
   "cell_type": "markdown",
   "metadata": {},
   "source": [
    "### Paths"
   ]
  },
  {
   "cell_type": "code",
   "execution_count": null,
   "metadata": {},
   "outputs": [],
   "source": [
    "TRAIN_IMAGE_PATH = 'data/train2017/'\n",
    "TRAIN_CAPTION_PATH = 'data/annotations/captions_train2017.json'"
   ]
  },
  {
   "cell_type": "code",
   "execution_count": null,
   "metadata": {},
   "outputs": [],
   "source": [
    "VAL_IMAGE_PATH = 'data/val2017/'\n",
    "VAL_CAPTION_PATH = 'data/annotations/captions_val2017.json'"
   ]
  },
  {
   "cell_type": "code",
   "execution_count": null,
   "metadata": {},
   "outputs": [],
   "source": [
    "from torchvision.transforms import Compose, Normalize, Resize, ToTensor"
   ]
  },
  {
   "cell_type": "markdown",
   "metadata": {},
   "source": [
    "### Image Transforms"
   ]
  },
  {
   "cell_type": "code",
   "execution_count": null,
   "metadata": {},
   "outputs": [],
   "source": [
    "transform_img = Compose([\n",
    "    Resize((224, 224)),\n",
    "    ToTensor(),\n",
    "    Normalize(mean=[0.485, 0.456, 0.406], std=[0.229, 0.224, 0.225]),\n",
    "])"
   ]
  },
  {
   "cell_type": "code",
   "execution_count": null,
   "metadata": {},
   "outputs": [],
   "source": [
    "import re\n",
    "import sys\n",
    "import unicodedata\n",
    "\n",
    "HALF = ' '\n",
    "CAP = '\\ue302'\n",
    "\n",
    "def detokenize(l):\n",
    "#     text = ' '.join(l).replace(CAP + HALF, HALF + CAP)\n",
    "#     text = re.sub(HALF + '+', lambda s: ' ' * (len(s.group(0)) // 2), text)\n",
    "#     return re.sub(CAP + '.', lambda s: s.group(0)[-1].upper(), text, flags=re.S)\n",
    "    return ' '.join(l)\n",
    "\n",
    "class CustomReversibleField(torchtext.data.ReversibleField):\n",
    "    def reverse(self, batch):\n",
    "        if self.use_revtok:\n",
    "            try:\n",
    "                import revtok\n",
    "            except ImportError:\n",
    "                print(\"Please install revtok.\")\n",
    "                raise\n",
    "        if not self.batch_first:\n",
    "            batch = batch.t()\n",
    "        with torch.cuda.device_of(batch):\n",
    "            batch = batch.tolist()\n",
    "        batch = [[self.vocab.itos[ind] for ind in ex] for ex in batch]  # denumericalize\n",
    "\n",
    "        def trim(s, t):\n",
    "            sentence = []\n",
    "            for w in s:\n",
    "                if w == t:\n",
    "                    break\n",
    "                sentence.append(w)\n",
    "            return sentence\n",
    "\n",
    "        batch = [trim(ex, self.eos_token) for ex in batch]  # trim past frst eos\n",
    "\n",
    "        def filter_special(tok):\n",
    "            return tok not in (self.init_token, self.pad_token)\n",
    "\n",
    "        batch = [filter(filter_special, ex) for ex in batch]\n",
    "        if self.use_revtok:\n",
    "            return [detokenize(ex) for ex in batch]\n",
    "        return [''.join(ex) for ex in batch]"
   ]
  },
  {
   "cell_type": "code",
   "execution_count": null,
   "metadata": {},
   "outputs": [],
   "source": [
    "tokenizer = TweetTokenizer()\n",
    "def tokenize(text):\n",
    "    return tokenizer.tokenize(text.lower())\n",
    "\n",
    "TEXT = CustomReversibleField(sequential=True, tokenize=tokenize, lower=True, init_token='<start>', eos_token='<end>', unk_token='<unk>', pad_token='<pad>')\n",
    "CAPTIONS = torchtext.data.NestedField(TEXT)"
   ]
  },
  {
   "cell_type": "code",
   "execution_count": 9,
   "metadata": {},
   "outputs": [
    {
     "name": "stdout",
     "output_type": "stream",
     "text": [
      "loading annotations into memory...\n",
      "Done (t=0.87s)\n",
      "creating index...\n",
      "index created!\n"
     ]
    }
   ],
   "source": [
    "class CocoOnlyCaptionsExamples(coco.CocoCaptions):\n",
    "    \"\"\"Датасет для подгрузки описаний изображений из coco\"\"\"\n",
    "    \n",
    "    def __getitem__(self, index):\n",
    "        coco = self.coco\n",
    "        img_id = self.ids[index]\n",
    "        ann_ids = coco.getAnnIds(imgIds=img_id)\n",
    "        anns = coco.loadAnns(ann_ids)\n",
    "        target = [ann['caption'] for ann in anns]\n",
    "        \n",
    "        #return target\n",
    "        return torchtext.data.Example.fromlist(\n",
    "            [target],\n",
    "            fields=[\n",
    "                ('captions', CAPTIONS)\n",
    "            ]\n",
    "        )\n",
    "    \n",
    "# Считаем все аннотации\n",
    "coco_train_captions = CocoOnlyCaptionsExamples(\n",
    "    TRAIN_IMAGE_PATH,\n",
    "    TRAIN_CAPTION_PATH\n",
    ")\n",
    "\n",
    "# Построим словарь с аннотациями, ограничим частоту встречаемости слов снизу\n",
    "CAPTIONS.build_vocab(\n",
    "    torchtext.data.Dataset(coco_train_captions, fields=[('captions', CAPTIONS)]),\n",
    "    min_freq=5\n",
    ")"
   ]
  },
  {
   "cell_type": "code",
   "execution_count": 10,
   "metadata": {},
   "outputs": [
    {
     "data": {
      "text/plain": [
       "10409"
      ]
     },
     "execution_count": 10,
     "metadata": {},
     "output_type": "execute_result"
    }
   ],
   "source": [
    "len(TEXT.vocab.stoi)"
   ]
  },
  {
   "cell_type": "code",
   "execution_count": 11,
   "metadata": {},
   "outputs": [
    {
     "data": {
      "text/plain": [
       "tensor([[  2, 508,  45,   3],\n",
       "        [  2, 522,  25,   3]])"
      ]
     },
     "execution_count": 11,
     "metadata": {},
     "output_type": "execute_result"
    }
   ],
   "source": [
    "TEXT.process([['sun', 'train'], ['beautiful', 'woman']])"
   ]
  },
  {
   "cell_type": "code",
   "execution_count": 12,
   "metadata": {},
   "outputs": [],
   "source": [
    "IMAGE = torchtext.data.Field(use_vocab=False, sequential=False)"
   ]
  },
  {
   "cell_type": "code",
   "execution_count": 13,
   "metadata": {},
   "outputs": [
    {
     "name": "stdout",
     "output_type": "stream",
     "text": [
      "loading annotations into memory...\n",
      "Done (t=0.80s)\n",
      "creating index...\n",
      "index created!\n",
      "loading annotations into memory...\n",
      "Done (t=0.04s)\n",
      "creating index...\n",
      "index created!\n"
     ]
    }
   ],
   "source": [
    "class CocoExamples(coco.CocoCaptions):\n",
    "    \"\"\"Датасет для подгрузки изображений c описаниями из coco\"\"\"\n",
    "    \n",
    "    def __getitem__(self, index):\n",
    "        image, captions = super().__getitem__(index)\n",
    "        \n",
    "        return torchtext.data.Example.fromlist(\n",
    "            [image, captions],\n",
    "            fields=[\n",
    "                ('image', IMAGE),\n",
    "                ('captions', CAPTIONS)\n",
    "            ]\n",
    "        )\n",
    "    \n",
    "coco_train = CocoExamples(\n",
    "    TRAIN_IMAGE_PATH,\n",
    "    TRAIN_CAPTION_PATH,\n",
    "    transform = transform_img\n",
    ")\n",
    "\n",
    "coco_val = CocoExamples(\n",
    "    VAL_IMAGE_PATH,\n",
    "    VAL_CAPTION_PATH,\n",
    "    transform = transform_img\n",
    ")"
   ]
  },
  {
   "cell_type": "code",
   "execution_count": 14,
   "metadata": {},
   "outputs": [],
   "source": [
    "from random import choice\n",
    "\n",
    "def collate_fn(samples):\n",
    "    # Объединяем изображения\n",
    "    images = torch.cat(tuple(map(lambda s: s.image.unsqueeze(0), samples)))\n",
    "    \n",
    "    # Выбираем случаное описание изображения\n",
    "    captions = list(map(lambda s: s.captions, samples))\n",
    "    captions = list(map(choice, captions))\n",
    "\n",
    "    return images, TEXT.process(captions)"
   ]
  },
  {
   "cell_type": "code",
   "execution_count": 15,
   "metadata": {},
   "outputs": [],
   "source": [
    "train_dataloader = DataLoader(coco_train, batch_size=16, collate_fn=collate_fn, shuffle=True, drop_last=True)\n",
    "val_dataloader = DataLoader(coco_val, batch_size=16, collate_fn=collate_fn, shuffle=True)"
   ]
  },
  {
   "cell_type": "code",
   "execution_count": 16,
   "metadata": {},
   "outputs": [],
   "source": [
    "_images, _captions = next(iter(train_dataloader))"
   ]
  },
  {
   "cell_type": "markdown",
   "metadata": {},
   "source": [
    "# NN"
   ]
  },
  {
   "cell_type": "code",
   "execution_count": 17,
   "metadata": {},
   "outputs": [
    {
     "data": {
      "text/plain": [
       "torch.Size([16, 1024, 7, 7])"
      ]
     },
     "execution_count": 17,
     "metadata": {},
     "output_type": "execute_result"
    }
   ],
   "source": [
    "from torchvision.models import densenet121\n",
    "\n",
    "modules = densenet121(pretrained=True)\n",
    "modules = list(modules.children())[:-1]\n",
    "image_warper = nn.Sequential(*modules)\n",
    "\n",
    "image_warper(_images).size()"
   ]
  },
  {
   "cell_type": "code",
   "execution_count": 18,
   "metadata": {},
   "outputs": [],
   "source": [
    "pool = nn.AdaptiveAvgPool2d(1)"
   ]
  },
  {
   "cell_type": "code",
   "execution_count": 19,
   "metadata": {},
   "outputs": [
    {
     "data": {
      "text/plain": [
       "torch.Size([16, 1024, 1, 1])"
      ]
     },
     "execution_count": 19,
     "metadata": {},
     "output_type": "execute_result"
    }
   ],
   "source": [
    "pool(image_warper(_images)).size()"
   ]
  },
  {
   "cell_type": "code",
   "execution_count": 20,
   "metadata": {},
   "outputs": [
    {
     "data": {
      "text/plain": [
       "torch.Size([16, 1, 1024])"
      ]
     },
     "execution_count": 20,
     "metadata": {},
     "output_type": "execute_result"
    }
   ],
   "source": [
    "class Encoder(nn.Module):\n",
    "    def __init__(self, encoded_image_size=1):\n",
    "        super().__init__()\n",
    "        \n",
    "        self.encoded_image_size = encoded_image_size\n",
    "        \n",
    "        modules = densenet121(pretrained=True)\n",
    "        modules = list(modules.children())[:-1]\n",
    "        self.image_warper = nn.Sequential(*modules)\n",
    "        self.apool = nn.AdaptiveAvgPool2d((self.encoded_image_size, self.encoded_image_size))\n",
    "\n",
    "        \n",
    "    def forward(self, images):\n",
    "        out = self.image_warper(images)\n",
    "        out = self.apool(out)\n",
    "        out = out.permute(0, 2, 3, 1)\n",
    "        \n",
    "        batch_size, enc_image_size, _, encoder_dim = out.shape\n",
    "        out = out.view(batch_size, -1, encoder_dim)\n",
    "        \n",
    "        return out\n",
    "    \n",
    "    \n",
    "ie = Encoder()\n",
    "_images_encoded = ie(_images)\n",
    "_images_encoded.shape"
   ]
  },
  {
   "cell_type": "code",
   "execution_count": 22,
   "metadata": {},
   "outputs": [
    {
     "name": "stdout",
     "output_type": "stream",
     "text": [
      "predictions: torch.Size([16, 18, 10409])\n",
      "captions_ix: torch.Size([16, 18])\n"
     ]
    }
   ],
   "source": [
    "class Decoder(nn.Module):\n",
    "    def __init__(self, enc_dim=1024, emb_dim=150, dec_dim=128, vocab_size=len(TEXT.vocab), pad_idx=TEXT.vocab.stoi[TEXT.pad_token], dropout=0.5):\n",
    "        super().__init__()\n",
    "        \n",
    "        self.enc_dim = enc_dim\n",
    "        self.emb_dim = emb_dim\n",
    "        self.dec_dim = dec_dim\n",
    "        self.vocab_size = vocab_size\n",
    "        self.pad_idx = pad_idx\n",
    "        self.dropout = dropout\n",
    "        \n",
    "        self.embedding = nn.Embedding(self.vocab_size, self.emb_dim)\n",
    "        self.decoder = nn.LSTM(self.emb_dim, self.emb_dim, batch_first = True)\n",
    "        self.init_h = nn.Linear(self.enc_dim, self.emb_dim)\n",
    "        self.init_c = nn.Linear(self.enc_dim, self.emb_dim)\n",
    "        self.out = nn.Linear(self.emb_dim, self.vocab_size)\n",
    "\n",
    "        \n",
    "        self.init_weights()\n",
    "        \n",
    "    def init_weights(self):\n",
    "        self.embedding.weight.data.uniform_(-0.1, 0.1)\n",
    "        self.out.bias.data.fill_(0)\n",
    "        self.out.weight.data.uniform_(-0.1, 0.1)\n",
    "        \n",
    "    def init_hidden_state(self, encoder_out):\n",
    "        mean_encoder_out = encoder_out.mean(dim=1)\n",
    "        h = self.init_h(mean_encoder_out)\n",
    "        c = self.init_c(mean_encoder_out)\n",
    "        return h, c\n",
    "    \n",
    "    def forward(self, encoder_out, captions_ix):\n",
    "        # encoder_out - [batch_size, num_pixels, encoder_dim]\n",
    "        # captions - [batch_size, max_caption_len]\n",
    "        \n",
    "        batch_size, num_pixels, enc_dim = encoder_out.shape\n",
    "        \n",
    "        # Восстанавливаем длины последовательностей\n",
    "        caption_lengths = (captions_ix != self.pad_idx).sum(axis=1)\n",
    "        \n",
    "        # Осуществляем embedding\n",
    "        embeddings = self.embedding(captions_ix)\n",
    "        # Начальное состояние\n",
    "        # h - [batch_size, dec_dim]\n",
    "        # c - [batch_size, dec_dim]\n",
    "        h, c = self.init_hidden_state(encoder_out)\n",
    "        h = h.unsqueeze(0)\n",
    "        c = c.unsqueeze(0)\n",
    "        output, _ = self.decoder(embeddings, (h, c))\n",
    "        \n",
    "        #print('c:',c.shape)\n",
    "        # Сколько реальных символов необходимо сгенерировать\n",
    "        #decode_lengths = (caption_lengths - 1).tolist()\n",
    "        decode_lengths = caption_lengths.tolist()\n",
    "        \n",
    "        predictions = self.out(output.squeeze(0))\n",
    "        \n",
    "         \n",
    "        return predictions, captions_ix, decode_lengths\n",
    "\n",
    "        \n",
    "idec = Decoder()\n",
    "predictions, captions_ix, decode_lengths = idec(_images_encoded, _captions)\n",
    "print('predictions:', predictions.shape)\n",
    "print('captions_ix:', captions_ix.shape)\n",
    "# print(sort_ind.shape)"
   ]
  },
  {
   "cell_type": "code",
   "execution_count": 23,
   "metadata": {},
   "outputs": [],
   "source": [
    "class Caption(nn.Module):\n",
    "    def __init__(self, encoder, decoder):\n",
    "        super().__init__()\n",
    "        \n",
    "        self.encoder = encoder\n",
    "        self.decoder = decoder\n",
    "        \n",
    "    def forward(self, image_vectors, captions_ix):\n",
    "        encoded_images = self.encoder(image_vectors)\n",
    "        return self.decoder(encoded_images, captions_ix)"
   ]
  },
  {
   "cell_type": "code",
   "execution_count": 24,
   "metadata": {},
   "outputs": [],
   "source": [
    "ienc = Encoder().to(device)\n",
    "idec = Decoder().to(device)\n",
    "network = Caption(ienc, idec).to(device)"
   ]
  },
  {
   "cell_type": "code",
   "execution_count": 25,
   "metadata": {},
   "outputs": [],
   "source": [
    "def compute_loss(network, image_vectors, captions_ix):\n",
    "    \"\"\"\n",
    "    :param image_vectors: torch tensor containing inception vectors. shape: [batch, cnn_feature_size]\n",
    "    :param captions_ix: torch tensor containing captions as matrix. shape: [batch, word_i]. \n",
    "        padded with pad_ix\n",
    "    :returns: scalar crossentropy loss (neg llh) loss for next captions_ix given previous ones\n",
    "    \"\"\"\n",
    "    \n",
    "    # Восстанавливаем длины последовательностей\n",
    "    caption_lengths = (captions_ix != TEXT.vocab.stoi[TEXT.pad_token]).sum(axis=1)\n",
    "    \n",
    "    # Сортируем входные данные по длинам последовательностей\n",
    "    caption_lengths, sort_ind = caption_lengths.sort(dim=0, descending=True)\n",
    "    image_vectors = image_vectors[sort_ind]\n",
    "    captions_ix = captions_ix[sort_ind]\n",
    "        \n",
    "    # captions for input - all except last cuz we don't know next token for last one.\n",
    "    captions_ix_inp = captions_ix[:, :-1].contiguous()\n",
    "    captions_ix_next = captions_ix[:, 1:].contiguous()\n",
    "    \n",
    "    # apply the network, get predictions for captions_ix_next\n",
    "    #predictions, captions_ix, decode_lengths, alphas, sort_ind = network.forward(image_vectors, captions_ix_inp)\n",
    "    predictions, captions_ix, decode_lengths = network.forward(image_vectors, captions_ix_inp)\n",
    "    \n",
    "    # compute the loss function between logits_for_next and captions_ix_next\n",
    "    # Use the mask, Luke: make sure that predicting next tokens after EOS do not contribute to loss\n",
    "    # you can do that either by multiplying elementwise loss by (captions_ix_next != pad_ix)\n",
    "    # or by using ignore_index in some losses.\n",
    "    \n",
    "    loss = F.cross_entropy(\n",
    "        predictions.view(-1, predictions.size(2)),\n",
    "        captions_ix_next.view(-1),\n",
    "        ignore_index=TEXT.vocab.stoi[TEXT.pad_token]\n",
    "    )\n",
    "    \n",
    "    \n",
    "    return loss"
   ]
  },
  {
   "cell_type": "code",
   "execution_count": 26,
   "metadata": {},
   "outputs": [],
   "source": [
    "from torch import optim\n",
    "opt = optim.Adam(network.parameters(), lr=1e-3)"
   ]
  },
  {
   "cell_type": "code",
   "execution_count": 27,
   "metadata": {},
   "outputs": [],
   "source": [
    "def flatten(l):\n",
    "    return [item for sublist in l for item in sublist]\n",
    "\n",
    "def remove_tech_tokens(mystr, tokens_to_remove=['<eos>', '<sos>', '<unk>', '<pad>']):\n",
    "    return [x for x in mystr if x not in tokens_to_remove]\n",
    "\n",
    "\n",
    "def get_text(x, TRG_vocab):\n",
    "    text = [TRG_vocab.itos[token] for token in x]\n",
    "    try:\n",
    "        end_idx = text.index('<eos>')\n",
    "        text = text[:end_idx]\n",
    "    except ValueError:\n",
    "        pass\n",
    "    text = remove_tech_tokens(text)\n",
    "    if len(text) < 1:\n",
    "        text = []\n",
    "    return text"
   ]
  },
  {
   "cell_type": "code",
   "execution_count": 32,
   "metadata": {},
   "outputs": [],
   "source": [
    "batch_size = 16  \n",
    "n_epochs = 50 \n",
    "n_batches_per_epoch = 500  \n",
    "n_validation_batches = 20  "
   ]
  },
  {
   "cell_type": "code",
   "execution_count": 33,
   "metadata": {},
   "outputs": [],
   "source": [
    "train_dataloader = DataLoader(coco_train, batch_size=batch_size, collate_fn=collate_fn, shuffle=True, drop_last=True)\n",
    "val_dataloader = DataLoader(coco_val, batch_size=batch_size, collate_fn=collate_fn, shuffle=True)"
   ]
  },
  {
   "cell_type": "code",
   "execution_count": 34,
   "metadata": {},
   "outputs": [],
   "source": [
    "best_bleu = -float('inf')"
   ]
  },
  {
   "cell_type": "code",
   "execution_count": 35,
   "metadata": {},
   "outputs": [
    {
     "data": {
      "application/vnd.jupyter.widget-view+json": {
       "model_id": "cb6e236d00734b5b9ac35710c1141847",
       "version_major": 2,
       "version_minor": 0
      },
      "text/plain": [
       "HBox(children=(FloatProgress(value=1.0, bar_style='info', max=1.0), HTML(value='')))"
      ]
     },
     "metadata": {},
     "output_type": "display_data"
    },
    {
     "name": "stdout",
     "output_type": "stream",
     "text": [
      "\n",
      "\n",
      "Epoch: 0, train loss: 3.650457618713379, val loss: 3.6443176746368406, val bleu: 3.0641216004178995\n"
     ]
    },
    {
     "data": {
      "application/vnd.jupyter.widget-view+json": {
       "model_id": "d8aff993ad2248ddb1e111387810af8e",
       "version_major": 2,
       "version_minor": 0
      },
      "text/plain": [
       "HBox(children=(FloatProgress(value=1.0, bar_style='info', max=1.0), HTML(value='')))"
      ]
     },
     "metadata": {},
     "output_type": "display_data"
    },
    {
     "name": "stdout",
     "output_type": "stream",
     "text": [
      "\n",
      "\n",
      "Epoch: 1, train loss: 3.519072397708893, val loss: 3.4759472608566284, val bleu: 3.1950466808263385\n"
     ]
    },
    {
     "data": {
      "application/vnd.jupyter.widget-view+json": {
       "model_id": "c81ae6f4e58245ff964f54ce33fd77a9",
       "version_major": 2,
       "version_minor": 0
      },
      "text/plain": [
       "HBox(children=(FloatProgress(value=1.0, bar_style='info', max=1.0), HTML(value='')))"
      ]
     },
     "metadata": {},
     "output_type": "display_data"
    },
    {
     "name": "stdout",
     "output_type": "stream",
     "text": [
      "\n",
      "\n",
      "Epoch: 2, train loss: 3.4700806379318236, val loss: 3.4810732126235964, val bleu: 3.9438421513041604\n"
     ]
    },
    {
     "data": {
      "application/vnd.jupyter.widget-view+json": {
       "model_id": "b105d47ebab2470c8863afcc990fd87a",
       "version_major": 2,
       "version_minor": 0
      },
      "text/plain": [
       "HBox(children=(FloatProgress(value=1.0, bar_style='info', max=1.0), HTML(value='')))"
      ]
     },
     "metadata": {},
     "output_type": "display_data"
    },
    {
     "name": "stdout",
     "output_type": "stream",
     "text": [
      "\n",
      "\n",
      "Epoch: 3, train loss: 3.4163098726272585, val loss: 3.3160884261131285, val bleu: 3.9316798830512263\n"
     ]
    },
    {
     "data": {
      "application/vnd.jupyter.widget-view+json": {
       "model_id": "fdd692a7be524122b1be541e1652ae93",
       "version_major": 2,
       "version_minor": 0
      },
      "text/plain": [
       "HBox(children=(FloatProgress(value=1.0, bar_style='info', max=1.0), HTML(value='')))"
      ]
     },
     "metadata": {},
     "output_type": "display_data"
    },
    {
     "name": "stdout",
     "output_type": "stream",
     "text": [
      "\n",
      "\n",
      "Epoch: 4, train loss: 3.3493400964736937, val loss: 3.3540759563446043, val bleu: 4.669595955974453\n"
     ]
    },
    {
     "data": {
      "application/vnd.jupyter.widget-view+json": {
       "model_id": "91f30702669645b3a726064e5caa1c09",
       "version_major": 2,
       "version_minor": 0
      },
      "text/plain": [
       "HBox(children=(FloatProgress(value=1.0, bar_style='info', max=1.0), HTML(value='')))"
      ]
     },
     "metadata": {},
     "output_type": "display_data"
    },
    {
     "name": "stdout",
     "output_type": "stream",
     "text": [
      "\n",
      "\n",
      "Epoch: 5, train loss: 3.277053288459778, val loss: 3.3600840091705324, val bleu: 4.55026424851937\n"
     ]
    },
    {
     "data": {
      "application/vnd.jupyter.widget-view+json": {
       "model_id": "0c87f8275311498cb4e390b071f98856",
       "version_major": 2,
       "version_minor": 0
      },
      "text/plain": [
       "HBox(children=(FloatProgress(value=1.0, bar_style='info', max=1.0), HTML(value='')))"
      ]
     },
     "metadata": {},
     "output_type": "display_data"
    },
    {
     "name": "stdout",
     "output_type": "stream",
     "text": [
      "\n",
      "\n",
      "Epoch: 6, train loss: 3.234998748779297, val loss: 3.232840049266815, val bleu: 4.561712720540351\n"
     ]
    },
    {
     "data": {
      "application/vnd.jupyter.widget-view+json": {
       "model_id": "a6ea255ff0ae4c988a0217acb74ebd8d",
       "version_major": 2,
       "version_minor": 0
      },
      "text/plain": [
       "HBox(children=(FloatProgress(value=1.0, bar_style='info', max=1.0), HTML(value='')))"
      ]
     },
     "metadata": {},
     "output_type": "display_data"
    },
    {
     "name": "stdout",
     "output_type": "stream",
     "text": [
      "\n",
      "\n",
      "Epoch: 7, train loss: 3.203563431739807, val loss: 3.2653038144111632, val bleu: 4.125335875859359\n"
     ]
    },
    {
     "data": {
      "application/vnd.jupyter.widget-view+json": {
       "model_id": "2982f8e124a6433faaa5ad8188e7997a",
       "version_major": 2,
       "version_minor": 0
      },
      "text/plain": [
       "HBox(children=(FloatProgress(value=1.0, bar_style='info', max=1.0), HTML(value='')))"
      ]
     },
     "metadata": {},
     "output_type": "display_data"
    },
    {
     "name": "stdout",
     "output_type": "stream",
     "text": [
      "\n",
      "\n",
      "Epoch: 8, train loss: 3.1755280900001526, val loss: 3.088212454319, val bleu: 4.8914858016564455\n"
     ]
    },
    {
     "data": {
      "application/vnd.jupyter.widget-view+json": {
       "model_id": "961ba4d9fa864b469f7445cdb4a0707d",
       "version_major": 2,
       "version_minor": 0
      },
      "text/plain": [
       "HBox(children=(FloatProgress(value=1.0, bar_style='info', max=1.0), HTML(value='')))"
      ]
     },
     "metadata": {},
     "output_type": "display_data"
    },
    {
     "name": "stdout",
     "output_type": "stream",
     "text": [
      "\n",
      "\n",
      "Epoch: 9, train loss: 3.1229618587493895, val loss: 3.0523236870765684, val bleu: 5.709338260218002\n"
     ]
    },
    {
     "data": {
      "application/vnd.jupyter.widget-view+json": {
       "model_id": "832a30e9e2cb4abe87f1045bf9b118ee",
       "version_major": 2,
       "version_minor": 0
      },
      "text/plain": [
       "HBox(children=(FloatProgress(value=1.0, bar_style='info', max=1.0), HTML(value='')))"
      ]
     },
     "metadata": {},
     "output_type": "display_data"
    },
    {
     "name": "stdout",
     "output_type": "stream",
     "text": [
      "\n",
      "\n",
      "Epoch: 10, train loss: 3.110157238006592, val loss: 3.040434169769287, val bleu: 5.704598244195431\n"
     ]
    },
    {
     "data": {
      "application/vnd.jupyter.widget-view+json": {
       "model_id": "7fdc61e7a0fc497aae9cd30a3fdb2e68",
       "version_major": 2,
       "version_minor": 0
      },
      "text/plain": [
       "HBox(children=(FloatProgress(value=1.0, bar_style='info', max=1.0), HTML(value='')))"
      ]
     },
     "metadata": {},
     "output_type": "display_data"
    },
    {
     "name": "stdout",
     "output_type": "stream",
     "text": [
      "\n",
      "\n",
      "Epoch: 11, train loss: 3.096097990512848, val loss: 2.9916664600372314, val bleu: 5.930720589161942\n"
     ]
    },
    {
     "data": {
      "application/vnd.jupyter.widget-view+json": {
       "model_id": "c530fb17ccac46dc91986519e41671b5",
       "version_major": 2,
       "version_minor": 0
      },
      "text/plain": [
       "HBox(children=(FloatProgress(value=1.0, bar_style='info', max=1.0), HTML(value='')))"
      ]
     },
     "metadata": {},
     "output_type": "display_data"
    },
    {
     "name": "stdout",
     "output_type": "stream",
     "text": [
      "\n",
      "\n",
      "Epoch: 12, train loss: 3.0723933773040772, val loss: 3.0685049653053285, val bleu: 5.655442809619219\n"
     ]
    },
    {
     "data": {
      "application/vnd.jupyter.widget-view+json": {
       "model_id": "d30ea3d5c87b4327a81f66cbcd3651f2",
       "version_major": 2,
       "version_minor": 0
      },
      "text/plain": [
       "HBox(children=(FloatProgress(value=1.0, bar_style='info', max=1.0), HTML(value='')))"
      ]
     },
     "metadata": {},
     "output_type": "display_data"
    },
    {
     "name": "stdout",
     "output_type": "stream",
     "text": [
      "\n",
      "\n",
      "Epoch: 13, train loss: 3.0621110067367554, val loss: 3.031180274486542, val bleu: 5.6819355923974895\n"
     ]
    },
    {
     "data": {
      "application/vnd.jupyter.widget-view+json": {
       "model_id": "7e994333f97c426cb3a0c7cc7d538223",
       "version_major": 2,
       "version_minor": 0
      },
      "text/plain": [
       "HBox(children=(FloatProgress(value=1.0, bar_style='info', max=1.0), HTML(value='')))"
      ]
     },
     "metadata": {},
     "output_type": "display_data"
    },
    {
     "name": "stdout",
     "output_type": "stream",
     "text": [
      "\n",
      "\n",
      "Epoch: 14, train loss: 3.0426119766235353, val loss: 3.075961780548096, val bleu: 5.1132339330445244\n"
     ]
    },
    {
     "data": {
      "application/vnd.jupyter.widget-view+json": {
       "model_id": "067ae7b1e70849fd825c365d1abc142e",
       "version_major": 2,
       "version_minor": 0
      },
      "text/plain": [
       "HBox(children=(FloatProgress(value=1.0, bar_style='info', max=1.0), HTML(value='')))"
      ]
     },
     "metadata": {},
     "output_type": "display_data"
    },
    {
     "name": "stdout",
     "output_type": "stream",
     "text": [
      "\n",
      "\n",
      "Epoch: 15, train loss: 3.025269420623779, val loss: 3.0528078436851502, val bleu: 6.125479782745995\n"
     ]
    },
    {
     "data": {
      "application/vnd.jupyter.widget-view+json": {
       "model_id": "2c7c0dc1e8e147829e17ea453dd21c18",
       "version_major": 2,
       "version_minor": 0
      },
      "text/plain": [
       "HBox(children=(FloatProgress(value=1.0, bar_style='info', max=1.0), HTML(value='')))"
      ]
     },
     "metadata": {},
     "output_type": "display_data"
    },
    {
     "name": "stdout",
     "output_type": "stream",
     "text": [
      "\n",
      "\n",
      "Epoch: 16, train loss: 2.984819682598114, val loss: 2.945209801197052, val bleu: 5.924701504458514\n"
     ]
    },
    {
     "data": {
      "application/vnd.jupyter.widget-view+json": {
       "model_id": "3cb9c33956724d4293a247b82450c2f4",
       "version_major": 2,
       "version_minor": 0
      },
      "text/plain": [
       "HBox(children=(FloatProgress(value=1.0, bar_style='info', max=1.0), HTML(value='')))"
      ]
     },
     "metadata": {},
     "output_type": "display_data"
    },
    {
     "name": "stdout",
     "output_type": "stream",
     "text": [
      "\n",
      "\n",
      "Epoch: 17, train loss: 2.968204052448273, val loss: 2.9971163749694822, val bleu: 5.717403943248243\n"
     ]
    },
    {
     "data": {
      "application/vnd.jupyter.widget-view+json": {
       "model_id": "1dbeb0aae86843bfb507ed71c212bb58",
       "version_major": 2,
       "version_minor": 0
      },
      "text/plain": [
       "HBox(children=(FloatProgress(value=1.0, bar_style='info', max=1.0), HTML(value='')))"
      ]
     },
     "metadata": {},
     "output_type": "display_data"
    },
    {
     "name": "stdout",
     "output_type": "stream",
     "text": [
      "\n",
      "\n",
      "Epoch: 18, train loss: 2.9730234150886536, val loss: 2.9744951128959656, val bleu: 6.558744185704099\n"
     ]
    },
    {
     "data": {
      "application/vnd.jupyter.widget-view+json": {
       "model_id": "21ece81fc06049638c634b5675a51ea3",
       "version_major": 2,
       "version_minor": 0
      },
      "text/plain": [
       "HBox(children=(FloatProgress(value=1.0, bar_style='info', max=1.0), HTML(value='')))"
      ]
     },
     "metadata": {},
     "output_type": "display_data"
    },
    {
     "name": "stdout",
     "output_type": "stream",
     "text": [
      "\n",
      "\n",
      "Epoch: 19, train loss: 2.9491330590248106, val loss: 2.896651256084442, val bleu: 6.404265728944866\n"
     ]
    },
    {
     "data": {
      "application/vnd.jupyter.widget-view+json": {
       "model_id": "0e4663e01ad74bd7a4df2410277bad2b",
       "version_major": 2,
       "version_minor": 0
      },
      "text/plain": [
       "HBox(children=(FloatProgress(value=1.0, bar_style='info', max=1.0), HTML(value='')))"
      ]
     },
     "metadata": {},
     "output_type": "display_data"
    },
    {
     "name": "stdout",
     "output_type": "stream",
     "text": [
      "\n",
      "\n",
      "Epoch: 20, train loss: 2.9322027678489686, val loss: 2.9643219351768493, val bleu: 5.9743981881019845\n"
     ]
    },
    {
     "data": {
      "application/vnd.jupyter.widget-view+json": {
       "model_id": "b45557e8bf844ef4bf4d534c09b1ad74",
       "version_major": 2,
       "version_minor": 0
      },
      "text/plain": [
       "HBox(children=(FloatProgress(value=1.0, bar_style='info', max=1.0), HTML(value='')))"
      ]
     },
     "metadata": {},
     "output_type": "display_data"
    },
    {
     "name": "stdout",
     "output_type": "stream",
     "text": [
      "\n",
      "\n",
      "Epoch: 21, train loss: 2.920953622817993, val loss: 2.8964327812194823, val bleu: 7.805554274927985\n"
     ]
    },
    {
     "data": {
      "application/vnd.jupyter.widget-view+json": {
       "model_id": "afcf17a0ea3148f38e22c74402390d6a",
       "version_major": 2,
       "version_minor": 0
      },
      "text/plain": [
       "HBox(children=(FloatProgress(value=1.0, bar_style='info', max=1.0), HTML(value='')))"
      ]
     },
     "metadata": {},
     "output_type": "display_data"
    },
    {
     "name": "stdout",
     "output_type": "stream",
     "text": [
      "\n",
      "\n",
      "Epoch: 22, train loss: 2.9111580991744996, val loss: 2.923935258388519, val bleu: 7.21810295848331\n"
     ]
    },
    {
     "data": {
      "application/vnd.jupyter.widget-view+json": {
       "model_id": "66015f883c594d0ebfe1e1bc3193119b",
       "version_major": 2,
       "version_minor": 0
      },
      "text/plain": [
       "HBox(children=(FloatProgress(value=1.0, bar_style='info', max=1.0), HTML(value='')))"
      ]
     },
     "metadata": {},
     "output_type": "display_data"
    },
    {
     "name": "stdout",
     "output_type": "stream",
     "text": [
      "\n",
      "\n",
      "Epoch: 23, train loss: 2.8983068714141846, val loss: 3.041846585273743, val bleu: 5.7382062355912815\n"
     ]
    },
    {
     "data": {
      "application/vnd.jupyter.widget-view+json": {
       "model_id": "f37a7ac758e8455c8c8c2fa811b23b25",
       "version_major": 2,
       "version_minor": 0
      },
      "text/plain": [
       "HBox(children=(FloatProgress(value=1.0, bar_style='info', max=1.0), HTML(value='')))"
      ]
     },
     "metadata": {},
     "output_type": "display_data"
    },
    {
     "name": "stdout",
     "output_type": "stream",
     "text": [
      "\n",
      "\n",
      "Epoch: 24, train loss: 2.86906272315979, val loss: 2.7933084845542906, val bleu: 7.4169204733901735\n"
     ]
    },
    {
     "data": {
      "application/vnd.jupyter.widget-view+json": {
       "model_id": "65ab7f45e2394f7880765d4da154df99",
       "version_major": 2,
       "version_minor": 0
      },
      "text/plain": [
       "HBox(children=(FloatProgress(value=1.0, bar_style='info', max=1.0), HTML(value='')))"
      ]
     },
     "metadata": {},
     "output_type": "display_data"
    },
    {
     "name": "stdout",
     "output_type": "stream",
     "text": [
      "\n",
      "\n",
      "Epoch: 25, train loss: 2.8735537509918214, val loss: 2.96236013174057, val bleu: 6.035527090353536\n"
     ]
    },
    {
     "data": {
      "application/vnd.jupyter.widget-view+json": {
       "model_id": "77e2dea4344a46f281f51b01d04dfca2",
       "version_major": 2,
       "version_minor": 0
      },
      "text/plain": [
       "HBox(children=(FloatProgress(value=1.0, bar_style='info', max=1.0), HTML(value='')))"
      ]
     },
     "metadata": {},
     "output_type": "display_data"
    },
    {
     "name": "stdout",
     "output_type": "stream",
     "text": [
      "\n",
      "\n",
      "Epoch: 26, train loss: 2.8737096090316774, val loss: 2.9560789346694945, val bleu: 6.568992643564147\n"
     ]
    },
    {
     "data": {
      "application/vnd.jupyter.widget-view+json": {
       "model_id": "366abd894c25420a8d047178133d7fc7",
       "version_major": 2,
       "version_minor": 0
      },
      "text/plain": [
       "HBox(children=(FloatProgress(value=1.0, bar_style='info', max=1.0), HTML(value='')))"
      ]
     },
     "metadata": {},
     "output_type": "display_data"
    },
    {
     "name": "stdout",
     "output_type": "stream",
     "text": [
      "\n",
      "\n",
      "Epoch: 27, train loss: 2.837676010131836, val loss: 2.839517521858215, val bleu: 6.989150290712856\n"
     ]
    },
    {
     "data": {
      "application/vnd.jupyter.widget-view+json": {
       "model_id": "e7cc4a47b8f348d582c16a79b6515e7e",
       "version_major": 2,
       "version_minor": 0
      },
      "text/plain": [
       "HBox(children=(FloatProgress(value=1.0, bar_style='info', max=1.0), HTML(value='')))"
      ]
     },
     "metadata": {},
     "output_type": "display_data"
    },
    {
     "name": "stdout",
     "output_type": "stream",
     "text": [
      "\n",
      "\n",
      "Epoch: 28, train loss: 2.8623728976249696, val loss: 2.863622856140137, val bleu: 6.923878233893624\n"
     ]
    },
    {
     "data": {
      "application/vnd.jupyter.widget-view+json": {
       "model_id": "c08fce61a50148bb8454ad391dd82b39",
       "version_major": 2,
       "version_minor": 0
      },
      "text/plain": [
       "HBox(children=(FloatProgress(value=1.0, bar_style='info', max=1.0), HTML(value='')))"
      ]
     },
     "metadata": {},
     "output_type": "display_data"
    },
    {
     "name": "stdout",
     "output_type": "stream",
     "text": [
      "\n",
      "\n",
      "Epoch: 29, train loss: 2.8440194582939147, val loss: 2.8849815726280212, val bleu: 6.753951432344326\n"
     ]
    },
    {
     "data": {
      "application/vnd.jupyter.widget-view+json": {
       "model_id": "a9ffb30475d24576a2a4184b5c3bf8fe",
       "version_major": 2,
       "version_minor": 0
      },
      "text/plain": [
       "HBox(children=(FloatProgress(value=1.0, bar_style='info', max=1.0), HTML(value='')))"
      ]
     },
     "metadata": {},
     "output_type": "display_data"
    },
    {
     "name": "stdout",
     "output_type": "stream",
     "text": [
      "\n",
      "\n",
      "Epoch: 30, train loss: 2.8316090602874757, val loss: 2.8415827989578246, val bleu: 6.658859643827795\n"
     ]
    },
    {
     "data": {
      "application/vnd.jupyter.widget-view+json": {
       "model_id": "5a04190dccaf44e8ada10d2d50920586",
       "version_major": 2,
       "version_minor": 0
      },
      "text/plain": [
       "HBox(children=(FloatProgress(value=1.0, bar_style='info', max=1.0), HTML(value='')))"
      ]
     },
     "metadata": {},
     "output_type": "display_data"
    },
    {
     "name": "stdout",
     "output_type": "stream",
     "text": [
      "\n",
      "\n",
      "Epoch: 31, train loss: 2.8285160636901856, val loss: 2.9120496034622194, val bleu: 6.718335779134643\n"
     ]
    },
    {
     "data": {
      "application/vnd.jupyter.widget-view+json": {
       "model_id": "fbbe0828d3274af99894a77453e0c7ed",
       "version_major": 2,
       "version_minor": 0
      },
      "text/plain": [
       "HBox(children=(FloatProgress(value=1.0, bar_style='info', max=1.0), HTML(value='')))"
      ]
     },
     "metadata": {},
     "output_type": "display_data"
    },
    {
     "name": "stdout",
     "output_type": "stream",
     "text": [
      "\n",
      "\n",
      "Epoch: 32, train loss: 2.8159510111808777, val loss: 2.8787769436836244, val bleu: 7.281601489181351\n"
     ]
    },
    {
     "data": {
      "application/vnd.jupyter.widget-view+json": {
       "model_id": "202278371dee4510b6d215df87f3ad8e",
       "version_major": 2,
       "version_minor": 0
      },
      "text/plain": [
       "HBox(children=(FloatProgress(value=1.0, bar_style='info', max=1.0), HTML(value='')))"
      ]
     },
     "metadata": {},
     "output_type": "display_data"
    },
    {
     "name": "stdout",
     "output_type": "stream",
     "text": [
      "\n",
      "\n",
      "Epoch: 33, train loss: 2.8124615330696106, val loss: 2.9512532114982606, val bleu: 6.451635732879046\n"
     ]
    },
    {
     "data": {
      "application/vnd.jupyter.widget-view+json": {
       "model_id": "234ccc2ec9834284acfd77e569788f47",
       "version_major": 2,
       "version_minor": 0
      },
      "text/plain": [
       "HBox(children=(FloatProgress(value=1.0, bar_style='info', max=1.0), HTML(value='')))"
      ]
     },
     "metadata": {},
     "output_type": "display_data"
    },
    {
     "name": "stdout",
     "output_type": "stream",
     "text": [
      "\n",
      "\n",
      "Epoch: 34, train loss: 2.7917485427856445, val loss: 2.723082756996155, val bleu: 7.802442437228082\n"
     ]
    },
    {
     "data": {
      "application/vnd.jupyter.widget-view+json": {
       "model_id": "e01a439749db4494a25679591de34629",
       "version_major": 2,
       "version_minor": 0
      },
      "text/plain": [
       "HBox(children=(FloatProgress(value=1.0, bar_style='info', max=1.0), HTML(value='')))"
      ]
     },
     "metadata": {},
     "output_type": "display_data"
    },
    {
     "name": "stdout",
     "output_type": "stream",
     "text": [
      "\n",
      "\n",
      "Epoch: 35, train loss: 2.7849026951789857, val loss: 2.855863797664642, val bleu: 6.327916506831975\n"
     ]
    },
    {
     "data": {
      "application/vnd.jupyter.widget-view+json": {
       "model_id": "b82bee12d6a041d5922e708fa321cc84",
       "version_major": 2,
       "version_minor": 0
      },
      "text/plain": [
       "HBox(children=(FloatProgress(value=1.0, bar_style='info', max=1.0), HTML(value='')))"
      ]
     },
     "metadata": {},
     "output_type": "display_data"
    },
    {
     "name": "stdout",
     "output_type": "stream",
     "text": [
      "\n",
      "\n",
      "Epoch: 36, train loss: 2.7799389333724975, val loss: 2.816521918773651, val bleu: 7.0688945393608265\n"
     ]
    },
    {
     "data": {
      "application/vnd.jupyter.widget-view+json": {
       "model_id": "ecc1ce7000654541a16bd435c5775a5b",
       "version_major": 2,
       "version_minor": 0
      },
      "text/plain": [
       "HBox(children=(FloatProgress(value=1.0, bar_style='info', max=1.0), HTML(value='')))"
      ]
     },
     "metadata": {},
     "output_type": "display_data"
    },
    {
     "name": "stdout",
     "output_type": "stream",
     "text": [
      "\n",
      "\n",
      "Epoch: 37, train loss: 2.755224970817566, val loss: 2.729927825927734, val bleu: 7.914711610474042\n"
     ]
    },
    {
     "data": {
      "application/vnd.jupyter.widget-view+json": {
       "model_id": "df06a236e71d48a28375de55465aa11d",
       "version_major": 2,
       "version_minor": 0
      },
      "text/plain": [
       "HBox(children=(FloatProgress(value=1.0, bar_style='info', max=1.0), HTML(value='')))"
      ]
     },
     "metadata": {},
     "output_type": "display_data"
    },
    {
     "name": "stdout",
     "output_type": "stream",
     "text": [
      "\n",
      "\n",
      "Epoch: 38, train loss: 2.775790853500366, val loss: 2.846641147136688, val bleu: 6.149025341038743\n"
     ]
    },
    {
     "data": {
      "application/vnd.jupyter.widget-view+json": {
       "model_id": "5c81cb6681f24adfa972f4aa74528c68",
       "version_major": 2,
       "version_minor": 0
      },
      "text/plain": [
       "HBox(children=(FloatProgress(value=1.0, bar_style='info', max=1.0), HTML(value='')))"
      ]
     },
     "metadata": {},
     "output_type": "display_data"
    },
    {
     "name": "stdout",
     "output_type": "stream",
     "text": [
      "\n",
      "\n",
      "Epoch: 39, train loss: 2.7548925671577456, val loss: 2.8256020069122316, val bleu: 7.714120003275278\n"
     ]
    },
    {
     "data": {
      "application/vnd.jupyter.widget-view+json": {
       "model_id": "5bfec7c099ef49debe0539c6dca05bbf",
       "version_major": 2,
       "version_minor": 0
      },
      "text/plain": [
       "HBox(children=(FloatProgress(value=1.0, bar_style='info', max=1.0), HTML(value='')))"
      ]
     },
     "metadata": {},
     "output_type": "display_data"
    },
    {
     "name": "stdout",
     "output_type": "stream",
     "text": [
      "\n",
      "\n",
      "Epoch: 40, train loss: 2.7567606897354127, val loss: 2.7624190211296082, val bleu: 7.462625522034216\n"
     ]
    },
    {
     "data": {
      "application/vnd.jupyter.widget-view+json": {
       "model_id": "16809ca419154ea99c57a8d4086ddf57",
       "version_major": 2,
       "version_minor": 0
      },
      "text/plain": [
       "HBox(children=(FloatProgress(value=1.0, bar_style='info', max=1.0), HTML(value='')))"
      ]
     },
     "metadata": {},
     "output_type": "display_data"
    },
    {
     "name": "stdout",
     "output_type": "stream",
     "text": [
      "\n",
      "\n",
      "Epoch: 41, train loss: 2.7126931085586548, val loss: 2.692241883277893, val bleu: 8.257375087128631\n"
     ]
    },
    {
     "data": {
      "application/vnd.jupyter.widget-view+json": {
       "model_id": "a8e0c111835d496c97a0129b6040c99c",
       "version_major": 2,
       "version_minor": 0
      },
      "text/plain": [
       "HBox(children=(FloatProgress(value=1.0, bar_style='info', max=1.0), HTML(value='')))"
      ]
     },
     "metadata": {},
     "output_type": "display_data"
    },
    {
     "name": "stdout",
     "output_type": "stream",
     "text": [
      "\n",
      "\n",
      "Epoch: 42, train loss: 2.738518560409546, val loss: 2.756289231777191, val bleu: 7.255388184564773\n"
     ]
    },
    {
     "data": {
      "application/vnd.jupyter.widget-view+json": {
       "model_id": "b3db5b7d6f924fd8906014a539eeafc5",
       "version_major": 2,
       "version_minor": 0
      },
      "text/plain": [
       "HBox(children=(FloatProgress(value=1.0, bar_style='info', max=1.0), HTML(value='')))"
      ]
     },
     "metadata": {},
     "output_type": "display_data"
    },
    {
     "name": "stdout",
     "output_type": "stream",
     "text": [
      "\n",
      "\n",
      "Epoch: 43, train loss: 2.7145151793956757, val loss: 2.7874503254890444, val bleu: 7.858064799754643\n"
     ]
    },
    {
     "data": {
      "application/vnd.jupyter.widget-view+json": {
       "model_id": "6ab6eca95dc94508abc1bb81dee486fd",
       "version_major": 2,
       "version_minor": 0
      },
      "text/plain": [
       "HBox(children=(FloatProgress(value=1.0, bar_style='info', max=1.0), HTML(value='')))"
      ]
     },
     "metadata": {},
     "output_type": "display_data"
    },
    {
     "name": "stdout",
     "output_type": "stream",
     "text": [
      "\n",
      "\n",
      "Epoch: 44, train loss: 2.735251901626587, val loss: 2.7920414805412292, val bleu: 7.436646303429099\n"
     ]
    },
    {
     "data": {
      "application/vnd.jupyter.widget-view+json": {
       "model_id": "24caaba5b014475da98c37df8c8b1a2c",
       "version_major": 2,
       "version_minor": 0
      },
      "text/plain": [
       "HBox(children=(FloatProgress(value=1.0, bar_style='info', max=1.0), HTML(value='')))"
      ]
     },
     "metadata": {},
     "output_type": "display_data"
    },
    {
     "name": "stdout",
     "output_type": "stream",
     "text": [
      "\n",
      "\n",
      "Epoch: 45, train loss: 2.7181119000911713, val loss: 2.757233214378357, val bleu: 6.7777931733392585\n"
     ]
    },
    {
     "data": {
      "application/vnd.jupyter.widget-view+json": {
       "model_id": "d0e996d2397445099c5f71231a99a226",
       "version_major": 2,
       "version_minor": 0
      },
      "text/plain": [
       "HBox(children=(FloatProgress(value=1.0, bar_style='info', max=1.0), HTML(value='')))"
      ]
     },
     "metadata": {},
     "output_type": "display_data"
    },
    {
     "name": "stdout",
     "output_type": "stream",
     "text": [
      "\n",
      "\n",
      "Epoch: 46, train loss: 2.69717716550827, val loss: 2.703422021865845, val bleu: 7.702694673914379\n"
     ]
    },
    {
     "data": {
      "application/vnd.jupyter.widget-view+json": {
       "model_id": "9e84c19ee62b4f578062ff44d10b25b6",
       "version_major": 2,
       "version_minor": 0
      },
      "text/plain": [
       "HBox(children=(FloatProgress(value=1.0, bar_style='info', max=1.0), HTML(value='')))"
      ]
     },
     "metadata": {},
     "output_type": "display_data"
    },
    {
     "name": "stdout",
     "output_type": "stream",
     "text": [
      "\n",
      "\n",
      "Epoch: 47, train loss: 2.7261314520835875, val loss: 2.766719472408295, val bleu: 7.470049916966016\n"
     ]
    },
    {
     "data": {
      "application/vnd.jupyter.widget-view+json": {
       "model_id": "98e54d54322c4b10891931f1ed7a5abb",
       "version_major": 2,
       "version_minor": 0
      },
      "text/plain": [
       "HBox(children=(FloatProgress(value=1.0, bar_style='info', max=1.0), HTML(value='')))"
      ]
     },
     "metadata": {},
     "output_type": "display_data"
    },
    {
     "name": "stdout",
     "output_type": "stream",
     "text": [
      "\n",
      "\n",
      "Epoch: 48, train loss: 2.715032614469528, val loss: 2.645396053791046, val bleu: 8.42395755032291\n"
     ]
    },
    {
     "data": {
      "application/vnd.jupyter.widget-view+json": {
       "model_id": "36da00b7684f4b228eed4324bbd11bb4",
       "version_major": 2,
       "version_minor": 0
      },
      "text/plain": [
       "HBox(children=(FloatProgress(value=1.0, bar_style='info', max=1.0), HTML(value='')))"
      ]
     },
     "metadata": {},
     "output_type": "display_data"
    },
    {
     "name": "stdout",
     "output_type": "stream",
     "text": [
      "\n",
      "\n",
      "Epoch: 49, train loss: 2.6966444220542907, val loss: 2.733553409576416, val bleu: 7.470120174470625\n"
     ]
    }
   ],
   "source": [
    "from nltk.translate.bleu_score import corpus_bleu\n",
    "from tqdm.notebook import tqdm_notebook as tqdm\n",
    "\n",
    "\n",
    "for epoch in range(n_epochs):\n",
    "    # Часть тренировки\n",
    "    \n",
    "    train_loss = 0\n",
    "    network.train(True)\n",
    "    \n",
    "    for i, batch in tqdm(zip(range(n_batches_per_epoch), train_dataloader)):\n",
    "        images, captions = batch\n",
    "        \n",
    "        # Переносим на устройство\n",
    "        images, captions = images.to(device), captions.to(device)\n",
    "        \n",
    "        # Считаем лосс\n",
    "        loss_t = compute_loss(network, images, captions)\n",
    "        \n",
    "        network.zero_grad()\n",
    "        loss_t.backward()\n",
    "        opt.step()\n",
    "        \n",
    "        train_loss += loss_t.item()\n",
    "        \n",
    "    train_loss /= n_batches_per_epoch\n",
    "    \n",
    "    # Часть валидации\n",
    "    val_loss = 0\n",
    "    network.train(False)\n",
    "    \n",
    "    original_text = []\n",
    "    generated_text = []\n",
    "    \n",
    "    for _, batch in zip(range(n_validation_batches), val_dataloader):\n",
    "        images, captions = batch\n",
    "        \n",
    "        # Переносим на устройство\n",
    "        images, captions = images.to(device), captions.to(device)\n",
    "        \n",
    "        # Считаем лосс\n",
    "        with torch.no_grad():\n",
    "            loss_t = compute_loss(network, images, captions)\n",
    "            val_loss += loss_t.item()\n",
    "            \n",
    "            predictions, captions_ix, decode_lengths = network.forward(images, captions)\n",
    "            output_bleu = predictions.argmax(dim=-1)\n",
    "\n",
    "            original_text.extend(([get_text(x, TEXT.vocab) for x in captions_ix.cpu().numpy()]))\n",
    "            generated_text.extend([get_text(x, TEXT.vocab) for x in output_bleu.cpu().numpy()])\n",
    "            \n",
    "    val_loss /= n_validation_batches\n",
    "    \n",
    "    val_bleu = corpus_bleu([[text] for text in original_text], generated_text) * 100\n",
    "    \n",
    "    if val_bleu >= best_bleu:\n",
    "        best_bleu = val_bleu\n",
    "        torch.save(network.state_dict(), 'resnet_lstm_attn_bleu.pth')\n",
    "    \n",
    "    print('\\nEpoch: {}, train loss: {}, val loss: {}, val bleu: {}'.format(epoch, train_loss, val_loss, val_bleu))"
   ]
  },
  {
   "cell_type": "code",
   "execution_count": 38,
   "metadata": {},
   "outputs": [
    {
     "name": "stdout",
     "output_type": "stream",
     "text": [
      "torch.Size([1, 10409])\n",
      "torch.Size([2, 10409])\n",
      "torch.Size([3, 10409])\n",
      "torch.Size([4, 10409])\n",
      "torch.Size([5, 10409])\n",
      "torch.Size([6, 10409])\n",
      "torch.Size([7, 10409])\n",
      "torch.Size([8, 10409])\n",
      "torch.Size([9, 10409])\n",
      "torch.Size([10, 10409])\n",
      "torch.Size([11, 10409])\n",
      "['<start>', 'a', 'man', 'is', 'riding', 'a', 'wave', 'on', 'a', 'surfboard', '.', '<end>']\n"
     ]
    },
    {
     "name": "stderr",
     "output_type": "stream",
     "text": [
      "Clipping input data to the valid range for imshow with RGB data ([0..1] for floats or [0..255] for integers).\n"
     ]
    },
    {
     "data": {
      "image/png": "[encoded data removed]",
      "text/plain": [
       "<Figure size 432x288 with 1 Axes>"
      ]
     },
     "metadata": {
      "needs_background": "light"
     },
     "output_type": "display_data"
    }
   ],
   "source": [
    "import matplotlib.pyplot as plt\n",
    "%matplotlib inline\n",
    "\n",
    "def generate_caption(image, caption_prefix=(TEXT.init_token,), t=1, sample=True, max_len=100):\n",
    "    with torch.no_grad():\n",
    "        image = image.to(device)\n",
    "        caption_prefix = list(caption_prefix)\n",
    "        \n",
    "        for _ in range(max_len):\n",
    "            prefix_ix = TEXT.process([caption_prefix])[:, 1:-1].to(device)\n",
    "            next_word_logits, _, _ = network.forward(image, prefix_ix)\n",
    "            print(next_word_logits.shape)\n",
    "            next_word_logits = next_word_logits.unsqueeze(0)[0, -1, :]\n",
    "            next_word_probs = F.softmax(next_word_logits, dim=-1).cpu().data.numpy()\n",
    "            \n",
    "            next_word_probs = next_word_probs ** t / np.sum(next_word_probs ** t) # apply temperature\n",
    "            \n",
    "            if sample:\n",
    "                next_word = TEXT.vocab.itos[np.random.choice(range(len(TEXT.vocab.itos)), p=next_word_probs)]\n",
    "            else:\n",
    "                next_word = TEXT.vocab.itos[np.argmax(next_word_probs)]\n",
    "                \n",
    "            caption_prefix.append(next_word)\n",
    "            \n",
    "            if next_word == TEXT.eos_token:\n",
    "                break\n",
    "            \n",
    "        print(caption_prefix)\n",
    "## Good example)   \n",
    "generate_caption(_images[[1]], sample=False)\n",
    "plt.imshow(_images[[1]].squeeze(0).permute([1,2,0]))\n",
    "plt.show()"
   ]
  },
  {
   "cell_type": "code",
   "execution_count": 54,
   "metadata": {},
   "outputs": [
    {
     "name": "stdout",
     "output_type": "stream",
     "text": [
      "torch.Size([1, 10409])\n",
      "torch.Size([2, 10409])\n",
      "torch.Size([3, 10409])\n",
      "torch.Size([4, 10409])\n",
      "torch.Size([5, 10409])\n",
      "torch.Size([6, 10409])\n",
      "torch.Size([7, 10409])\n",
      "torch.Size([8, 10409])\n",
      "torch.Size([9, 10409])\n",
      "torch.Size([10, 10409])\n",
      "torch.Size([11, 10409])\n"
     ]
    },
    {
     "name": "stderr",
     "output_type": "stream",
     "text": [
      "Clipping input data to the valid range for imshow with RGB data ([0..1] for floats or [0..255] for integers).\n"
     ]
    },
    {
     "name": "stdout",
     "output_type": "stream",
     "text": [
      "torch.Size([12, 10409])\n",
      "torch.Size([13, 10409])\n",
      "['<start>', 'a', 'group', 'of', 'people', 'standing', 'in', 'a', 'field', 'with', 'a', 'kite', '.', '<end>']\n"
     ]
    },
    {
     "data": {
      "image/png": "[encoded data removed]",
      "text/plain": [
       "<Figure size 432x288 with 1 Axes>"
      ]
     },
     "metadata": {
      "needs_background": "light"
     },
     "output_type": "display_data"
    }
   ],
   "source": [
    "#shit\n",
    "generate_caption(_images[[12]], sample=False)\n",
    "plt.imshow(_images[[12]].squeeze(0).permute([1,2,0]))\n",
    "plt.show()"
   ]
  },
  {
   "cell_type": "code",
   "execution_count": 55,
   "metadata": {},
   "outputs": [
    {
     "name": "stdout",
     "output_type": "stream",
     "text": [
      "torch.Size([1, 10409])\n",
      "torch.Size([2, 10409])\n",
      "torch.Size([3, 10409])\n",
      "torch.Size([4, 10409])\n",
      "torch.Size([5, 10409])\n",
      "torch.Size([6, 10409])\n"
     ]
    },
    {
     "name": "stderr",
     "output_type": "stream",
     "text": [
      "Clipping input data to the valid range for imshow with RGB data ([0..1] for floats or [0..255] for integers).\n"
     ]
    },
    {
     "name": "stdout",
     "output_type": "stream",
     "text": [
      "torch.Size([7, 10409])\n",
      "torch.Size([8, 10409])\n",
      "torch.Size([9, 10409])\n",
      "torch.Size([10, 10409])\n",
      "['<start>', 'a', 'baseball', 'player', 'is', 'swinging', 'at', 'a', 'baseball', '.', '<end>']\n"
     ]
    },
    {
     "data": {
      "image/png": "[encoded data removed]",
      "text/plain": [
       "<Figure size 432x288 with 1 Axes>"
      ]
     },
     "metadata": {
      "needs_background": "light"
     },
     "output_type": "display_data"
    }
   ],
   "source": [
    "# something about baseball model caught\n",
    "generate_caption(_images[[7]], sample=False)\n",
    "plt.imshow(_images[[7]].squeeze(0).permute([1,2,0]))\n",
    "plt.show()"
   ]
  },
  {
   "cell_type": "code",
   "execution_count": null,
   "metadata": {},
   "outputs": [],
   "source": []
  }
 ],
 "metadata": {
  "kernelspec": {
   "display_name": "Python 3",
   "language": "python",
   "name": "python3"
  },
  "language_info": {
   "codemirror_mode": {
    "name": "ipython",
    "version": 3
   },
   "file_extension": ".py",
   "mimetype": "text/x-python",
   "name": "python",
   "nbconvert_exporter": "python",
   "pygments_lexer": "ipython3",
   "version": "3.7.6"
  }
 },
 "nbformat": 4,
 "nbformat_minor": 4
}
